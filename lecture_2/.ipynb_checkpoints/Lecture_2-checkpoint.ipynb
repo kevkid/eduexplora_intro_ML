{
 "cells": [
  {
   "cell_type": "markdown",
   "metadata": {},
   "source": [
    "# Part 1 - Code Review"
   ]
  },
  {
   "cell_type": "markdown",
   "metadata": {},
   "source": [
    "## Variables"
   ]
  },
  {
   "cell_type": "code",
   "execution_count": 2,
   "metadata": {},
   "outputs": [
    {
     "name": "stdout",
     "output_type": "stream",
     "text": [
      "30\n"
     ]
    }
   ],
   "source": [
    "#we can set a variable to anything\n",
    "a = 10\n",
    "b = 20\n",
    "c = 'hello'\n",
    "#you can perform operations on variables:\n",
    "print(a + b)"
   ]
  },
  {
   "cell_type": "markdown",
   "metadata": {},
   "source": [
    "## Lists"
   ]
  },
  {
   "cell_type": "code",
   "execution_count": 6,
   "metadata": {},
   "outputs": [
    {
     "name": "stdout",
     "output_type": "stream",
     "text": [
      "10\n",
      "[11111, 20, 'hello']\n",
      "[1, 2, 3, 4, 9, 8, 7, 6]\n"
     ]
    },
    {
     "data": {
      "text/plain": [
       "[10, 10, 10, 10]"
      ]
     },
     "execution_count": 6,
     "metadata": {},
     "output_type": "execute_result"
    }
   ],
   "source": [
    "#lists can hold multiple items\n",
    "L = [a,b,c]\n",
    "#We can call an item in the list by using its index\n",
    "#If we wanted the first element in a list we call it using the 0th index. Python uses 0 as its first index\n",
    "print(L[0])\n",
    "#if we want to get the last element in a list we use -1 as the index\n",
    "print(L[-1])\n",
    "#We can change what is inside of a list\n",
    "L[0] = 11111\n",
    "print(L)\n",
    "#we can add lists together concatenating them\n",
    "list_1 = [1,2,3,4]\n",
    "list_2 = [9,8,7,6]\n",
    "print(list_1 + list_2)\n",
    "# you can also put lists inside of lists\n",
    "list_3 = [list_1, 'hello']\n",
    "print(list_3)\n",
    "#we will go over the adding of 2 lists in a later section"
   ]
  },
  {
   "cell_type": "markdown",
   "metadata": {},
   "source": [
    "## Dictionaries"
   ]
  },
  {
   "cell_type": "code",
   "execution_count": 9,
   "metadata": {},
   "outputs": [
    {
     "name": "stdout",
     "output_type": "stream",
     "text": [
      "100\n",
      "25\n"
     ]
    },
    {
     "ename": "KeyError",
     "evalue": "0",
     "output_type": "error",
     "traceback": [
      "\u001b[1;31m---------------------------------------------------------------------------\u001b[0m",
      "\u001b[1;31mKeyError\u001b[0m                                  Traceback (most recent call last)",
      "\u001b[1;32m<ipython-input-9-ecb94d1dca33>\u001b[0m in \u001b[0;36m<module>\u001b[1;34m()\u001b[0m\n\u001b[0;32m      5\u001b[0m \u001b[0mprint\u001b[0m\u001b[1;33m(\u001b[0m\u001b[0md\u001b[0m\u001b[1;33m[\u001b[0m\u001b[1;34m'hello'\u001b[0m\u001b[1;33m]\u001b[0m\u001b[1;33m)\u001b[0m\u001b[1;33m\u001b[0m\u001b[0m\n\u001b[0;32m      6\u001b[0m \u001b[1;31m#if we call dictionary via an index we will get an error\u001b[0m\u001b[1;33m\u001b[0m\u001b[1;33m\u001b[0m\u001b[0m\n\u001b[1;32m----> 7\u001b[1;33m \u001b[0mprint\u001b[0m\u001b[1;33m(\u001b[0m\u001b[0md\u001b[0m\u001b[1;33m[\u001b[0m\u001b[1;36m0\u001b[0m\u001b[1;33m]\u001b[0m\u001b[1;33m)\u001b[0m\u001b[1;33m\u001b[0m\u001b[0m\n\u001b[0m",
      "\u001b[1;31mKeyError\u001b[0m: 0"
     ]
    }
   ],
   "source": [
    "#Dictionaries are almost the same as lists except for we call it via a key instead of an index\n",
    "#dictionaries are superfast for looking up stuff\n",
    "d = {'a':100, 'hello': 25, 2:'Yale'}\n",
    "print(d['a'])\n",
    "print(d['hello'])\n",
    "#if we call dictionary via an index we will get an error\n",
    "print(d[0])"
   ]
  },
  {
   "cell_type": "markdown",
   "metadata": {},
   "source": [
    "## Loops and List comprehension"
   ]
  },
  {
   "cell_type": "code",
   "execution_count": null,
   "metadata": {},
   "outputs": [],
   "source": [
    "#A loop runs a peice of code a specified amount of times.\n",
    "for i in range(10):#here it is 10 times\n",
    "    print (i)\n",
    "#list comprehensions are essentially the same as loops, just in a more condensed form\n",
    "[print(i) for i in range(10)]\n",
    "\n",
    "#we can add the elements in the list by using a loop or list comprehension\n",
    "for x in zip(list_1,list_2):\n",
    "    print(sum(x))# we can append to a list if we want\n",
    "\n",
    "#this will automatically put it in a list for you\n",
    "print([sum(x) for x in zip(list_1,list_2)])\n",
    "\n",
    "#These methods may not be the best way to sum up lots of numbers"
   ]
  },
  {
   "cell_type": "markdown",
   "metadata": {},
   "source": [
    "## If statements"
   ]
  },
  {
   "cell_type": "code",
   "execution_count": 10,
   "metadata": {},
   "outputs": [
    {
     "name": "stdout",
     "output_type": "stream",
     "text": [
      "1 is larger than 2\n",
      "i is smaller than 5\n",
      "i is smaller than 5\n",
      "i is smaller than 5\n",
      "i is smaller than 5\n",
      "i is smaller than 5\n",
      "i is larger than 5\n",
      "i is larger than 5\n",
      "i is larger than 5\n",
      "i is larger than 5\n",
      "i is larger than 5\n"
     ]
    }
   ],
   "source": [
    "#if statements allow us to test a condition\n",
    "#for example we may want to do something if a number is larger than another and do something\n",
    "if 1 < 2:\n",
    "    print('1 is larger than 2')\n",
    "else:\n",
    "    print('We should never get here')\n",
    "    \n",
    "#we can also use if statements inside of loops\n",
    "\n",
    "for i in range(10):\n",
    "    if i < 5:\n",
    "        print ('i is smaller than 5')\n",
    "    else:\n",
    "        print ('i is larger than 5')"
   ]
  },
  {
   "cell_type": "markdown",
   "metadata": {},
   "source": [
    "## Functions"
   ]
  },
  {
   "cell_type": "code",
   "execution_count": 11,
   "metadata": {},
   "outputs": [
    {
     "name": "stdout",
     "output_type": "stream",
     "text": [
      "1\n",
      "4\n",
      "9\n",
      "16\n",
      "25\n",
      "36\n",
      "49\n",
      "64\n",
      "81\n",
      "100\n",
      "4\n",
      "9\n",
      "16\n",
      "25\n",
      "36\n",
      "49\n",
      "64\n",
      "81\n",
      "100\n",
      "121\n",
      "144\n",
      "169\n",
      "196\n",
      "225\n",
      "256\n",
      "289\n",
      "324\n",
      "361\n",
      "400\n",
      "441\n",
      "9\n",
      "16\n",
      "25\n",
      "36\n",
      "49\n",
      "64\n",
      "81\n",
      "100\n",
      "121\n",
      "144\n",
      "169\n",
      "196\n",
      "225\n",
      "256\n",
      "289\n",
      "324\n",
      "361\n",
      "400\n",
      "441\n",
      "484\n",
      "529\n",
      "576\n",
      "625\n",
      "676\n",
      "729\n",
      "784\n",
      "841\n",
      "900\n",
      "961\n",
      "1024\n"
     ]
    }
   ],
   "source": [
    "#functions are used to run repetative code\n",
    "#we have several lists\n",
    "my_list_1 = list(range(1,11))\n",
    "\n",
    "my_list_2 = list(range(2,22))\n",
    "\n",
    "my_list_3 = list(range(3,33))\n",
    "\n",
    "#we want to print the squares for each element of every list. The simplest way is to make a loop for each one\n",
    "for i in my_list_1:\n",
    "    print(i ** 2)\n",
    "\n",
    "for i in my_list_2:\n",
    "    print(i ** 2)\n",
    "    \n",
    "for i in my_list_3:\n",
    "    print(i ** 2)"
   ]
  },
  {
   "cell_type": "code",
   "execution_count": 12,
   "metadata": {},
   "outputs": [
    {
     "name": "stdout",
     "output_type": "stream",
     "text": [
      "1\n",
      "4\n",
      "9\n",
      "16\n",
      "25\n",
      "36\n",
      "49\n",
      "64\n",
      "81\n",
      "100\n",
      "4\n",
      "9\n",
      "16\n",
      "25\n",
      "36\n",
      "49\n",
      "64\n",
      "81\n",
      "100\n",
      "121\n",
      "144\n",
      "169\n",
      "196\n",
      "225\n",
      "256\n",
      "289\n",
      "324\n",
      "361\n",
      "400\n",
      "441\n",
      "9\n",
      "16\n",
      "25\n",
      "36\n",
      "49\n",
      "64\n",
      "81\n",
      "100\n",
      "121\n",
      "144\n",
      "169\n",
      "196\n",
      "225\n",
      "256\n",
      "289\n",
      "324\n",
      "361\n",
      "400\n",
      "441\n",
      "484\n",
      "529\n",
      "576\n",
      "625\n",
      "676\n",
      "729\n",
      "784\n",
      "841\n",
      "900\n",
      "961\n",
      "1024\n"
     ]
    }
   ],
   "source": [
    "# to simplify we can put the loop in a function\n",
    "def loop_over_list(x):\n",
    "    for i in x:\n",
    "        print (i ** 2)\n",
    "        \n",
    "loop_over_list(my_list_1)\n",
    "loop_over_list(my_list_2)\n",
    "loop_over_list(my_list_3)b"
   ]
  },
  {
   "cell_type": "code",
   "execution_count": 23,
   "metadata": {},
   "outputs": [
    {
     "name": "stdout",
     "output_type": "stream",
     "text": [
      "[1 2 3]\n",
      "[9 8 7 6]\n",
      "[10 10 10 10]\n"
     ]
    }
   ],
   "source": [
    "#importing libraries\n",
    "import numpy as np\n",
    "#numpy is an important library that handles big lists of numbers in multiple dimensions\n",
    "#lets create an array (vector)\n",
    "n = np.array([1,2,3])\n",
    "print (n)\n",
    "type(n)\n",
    "#lets add the 2 lists from before, should be the same\n",
    "print(np.array(list_1) + np.array(list_2))"
   ]
  },
  {
   "cell_type": "markdown",
   "metadata": {},
   "source": [
    "## Part 2 - Data preprocessing"
   ]
  },
  {
   "cell_type": "markdown",
   "metadata": {},
   "source": [
    "## Part 2 - Prerequisites "
   ]
  },
  {
   "cell_type": "markdown",
   "metadata": {},
   "source": [
    "## Pandas"
   ]
  },
  {
   "cell_type": "code",
   "execution_count": null,
   "metadata": {},
   "outputs": [],
   "source": [
    "#Lets import pandas\n",
    "import pandas as pd\n",
    "#the library is imported now lets import our data using a nice pandas function called read_csv\n",
    "#we would do:\n",
    "data = pd.read_csv('data.csv')#read csv returns a pandas dataframe\n",
    "#Pandas has a special method that allows for selecting elements using indexes. The function is called iloc\n",
    "#USUALLY we want to get our independent variables as X and our dependent variable as Y\n",
    "#this is how it normally looks\n",
    "X = data.iloc[:,0]#variables\n",
    "y = data.iloc[:,1]#outcomes"
   ]
  },
  {
   "cell_type": "markdown",
   "metadata": {},
   "source": [
    "## Missing Data"
   ]
  },
  {
   "cell_type": "code",
   "execution_count": null,
   "metadata": {},
   "outputs": [],
   "source": [
    "#Lets import the imputer from sklearn\n",
    "from sklearn.preprocessing import Imputer\n",
    "#we have to instantiate the imputer object with parameters that we need\n",
    "imputer = Imputer(missing_values = 'NaN', strategy = 'mean', axis = 0)#NaN means not a number. axis means which direction rows = 1, columns = 0\n",
    "#imputer has some nice functions such as fit_transform where it fits to our data and fills in the missing data\n",
    "#be careful it, you only want to transform the column values that are numbers if the strategy is 'mean'. if its categorical you want to use 'most_frequent'\n",
    "X = imputer.fit_transform(X)\n",
    "#what does your data look like?"
   ]
  },
  {
   "cell_type": "markdown",
   "metadata": {},
   "source": [
    "# Exercise: Take the data provided and impute the missing values. View the data after imputing values.\n",
    "### Does it seem like the data was imputed correctly? (are the imputed values the mean?)"
   ]
  },
  {
   "cell_type": "markdown",
   "metadata": {},
   "source": [
    "<b style='color: red'>for the experts<b>"
   ]
  },
  {
   "cell_type": "markdown",
   "metadata": {},
   "source": [
    "## Categorical data"
   ]
  },
  {
   "cell_type": "code",
   "execution_count": null,
   "metadata": {},
   "outputs": [],
   "source": [
    "from sklearn.preprocessing import LabelEncoder, OneHotEncoder\n",
    "X_label_encoder = LabelEncoder()\n",
    "X[:, 0] = X_label_encoder.fit_transform(X[:, 0])#take the categorical column and turn into number"
   ]
  },
  {
   "cell_type": "markdown",
   "metadata": {},
   "source": [
    "### one-hot encode the categorical number"
   ]
  },
  {
   "cell_type": "code",
   "execution_count": 43,
   "metadata": {},
   "outputs": [],
   "source": [
    "onehot_encoder = OneHotEncoder(categorical_features = [0])#take the categorical number and assign it to a one hot structure\n",
    "X = onehot_encoder.fit_transform(X).toarray()"
   ]
  },
  {
   "cell_type": "markdown",
   "metadata": {},
   "source": [
    "### Training and test set"
   ]
  },
  {
   "cell_type": "code",
   "execution_count": 45,
   "metadata": {},
   "outputs": [],
   "source": [
    "from sklearn.model_selection import train_test_split\n",
    "X_train, X_test, y_train, y_test = train_test_split(X, y, test_size=0.20, random_state=0)"
   ]
  },
  {
   "cell_type": "markdown",
   "metadata": {},
   "source": [
    "### Feature Scaling"
   ]
  },
  {
   "cell_type": "code",
   "execution_count": null,
   "metadata": {},
   "outputs": [],
   "source": [
    "#standard scaler is used often\n",
    "from sklearn.preprocessing import StandardScaler\n",
    "X_scaler = StandardScaler()\n",
    "X_train = X_scaler.fit_transform(X_train)#fit to the train set and scale the train set\n",
    "#you also want to scale the test set using the parameters from train set (HINT use the transform method)\n"
   ]
  }
 ],
 "metadata": {
  "kernelspec": {
   "display_name": "Python 3",
   "language": "python",
   "name": "python3"
  },
  "language_info": {
   "codemirror_mode": {
    "name": "ipython",
    "version": 3
   },
   "file_extension": ".py",
   "mimetype": "text/x-python",
   "name": "python",
   "nbconvert_exporter": "python",
   "pygments_lexer": "ipython3",
   "version": "3.6.4"
  }
 },
 "nbformat": 4,
 "nbformat_minor": 2
}
