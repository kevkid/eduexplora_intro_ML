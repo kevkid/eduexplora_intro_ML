{
 "cells": [
  {
   "cell_type": "code",
   "execution_count": null,
   "metadata": {},
   "outputs": [],
   "source": [
    "#Range being inclusive:\n",
    "li = list(range(0,10))\n",
    "print(li)\n"
   ]
  },
  {
   "cell_type": "code",
   "execution_count": null,
   "metadata": {},
   "outputs": [],
   "source": [
    "for i in range(len(li)+1):#We are simulating range giving us 0-10 inclusive\n",
    "    print(li[i])"
   ]
  },
  {
   "cell_type": "markdown",
   "metadata": {},
   "source": [
    "## Import Libraries and dataset"
   ]
  },
  {
   "cell_type": "code",
   "execution_count": 1,
   "metadata": {},
   "outputs": [
    {
     "name": "stderr",
     "output_type": "stream",
     "text": [
      "/usr/lib/python3.6/importlib/_bootstrap.py:219: RuntimeWarning: numpy.dtype size changed, may indicate binary incompatibility. Expected 96, got 88\n",
      "  return f(*args, **kwds)\n",
      "/usr/lib/python3.6/importlib/_bootstrap.py:219: RuntimeWarning: numpy.dtype size changed, may indicate binary incompatibility. Expected 96, got 88\n",
      "  return f(*args, **kwds)\n"
     ]
    }
   ],
   "source": [
    "import pandas as pd\n",
    "import numpy as np\n",
    "np.random.seed(0)\n",
    "#the library is imported now lets import our data using a nice pandas function called read_csv\n",
    "#we would do:\n",
    "data = pd.read_csv('DATA.csv')#\n",
    "r = np.random.randint(low=0,high=1000, size=100).tolist()\n",
    "data.iloc[r, 2] = pd.np.nan\n",
    "X = data.iloc[:,0:3]#variables\n",
    "y = data.iloc[:,3]#variables"
   ]
  },
  {
   "cell_type": "code",
   "execution_count": 2,
   "metadata": {},
   "outputs": [
    {
     "data": {
      "text/plain": [
       "(1000, 4)"
      ]
     },
     "execution_count": 2,
     "metadata": {},
     "output_type": "execute_result"
    }
   ],
   "source": [
    "data.shape"
   ]
  },
  {
   "cell_type": "code",
   "execution_count": 3,
   "metadata": {},
   "outputs": [
    {
     "name": "stdout",
     "output_type": "stream",
     "text": [
      "                   country    age  gender    salary\n",
      "0                   Poland    NaN  Female  119459.0\n",
      "1                 Colombia   73.0    Male  109999.0\n",
      "2                    China    NaN    Male  135392.0\n",
      "3                Indonesia   91.0    Male   49886.0\n",
      "4           Czech Republic   53.0    Male  103178.0\n",
      "5                   Canada  136.0  Female  131605.0\n",
      "6                Indonesia    NaN    Male  146128.0\n",
      "7                    China    NaN  Female  119298.0\n",
      "8                    China  116.0  Female  123175.0\n",
      "9                  Vietnam  114.0     NaN  138617.0\n",
      "10   Palestinian Territory   32.0    Male       NaN\n",
      "11                Pakistan   45.0  Female   66317.0\n",
      "12                   China  140.0  Female   71870.0\n",
      "13               Indonesia    NaN  Female       NaN\n",
      "14                  Poland   61.0    Male   69626.0\n",
      "15                  Mexico  149.0    Male   75329.0\n",
      "16               Indonesia   53.0    Male   27189.0\n",
      "17               Macedonia   36.0    Male  104105.0\n",
      "18               Argentina  129.0  Female       NaN\n",
      "19                   China   71.0    Male   74527.0\n",
      "20             Philippines   70.0  Female   75104.0\n",
      "21                   China  133.0    Male   90145.0\n",
      "22             South Korea   27.0    Male   92813.0\n",
      "23                Portugal   97.0    Male   31438.0\n",
      "24                  Russia   63.0    Male   94148.0\n",
      "25                  Poland   62.0  Female  114636.0\n",
      "26                Portugal    NaN  Female   67986.0\n",
      "27                    Cuba   65.0  Female   92651.0\n",
      "28               Indonesia   38.0     NaN  107158.0\n",
      "29                   China   23.0  Female   61712.0\n",
      "..                     ...    ...     ...       ...\n",
      "970                Albania    NaN  Female  141501.0\n",
      "971              Argentina  117.0  Female   30840.0\n",
      "972                 Brazil  106.0  Female   90653.0\n",
      "973               Pakistan  139.0    Male   61385.0\n",
      "974                  China   25.0    Male  124117.0\n",
      "975                 France  104.0  Female   72772.0\n",
      "976                 France   88.0     NaN  108438.0\n",
      "977               Paraguay   28.0    Male   48238.0\n",
      "978               Ethiopia   96.0  Female   28607.0\n",
      "979              Venezuela   88.0  Female   23266.0\n",
      "980                 Sweden   29.0    Male  109534.0\n",
      "981                    NaN   85.0  Female   68133.0\n",
      "982                    NaN    NaN    Male  146340.0\n",
      "983                  Chile   37.0  Female  117160.0\n",
      "984                 Monaco   93.0     NaN       NaN\n",
      "985                  China  121.0  Female   47827.0\n",
      "986               Colombia    NaN  Female  142232.0\n",
      "987                 Russia    NaN    Male       NaN\n",
      "988                    NaN  137.0    Male  142820.0\n",
      "989               Portugal   61.0  Female   78093.0\n",
      "990                 Russia   41.0    Male  135264.0\n",
      "991                Ecuador   78.0  Female   42266.0\n",
      "992              Indonesia   69.0    Male  123124.0\n",
      "993         Czech Republic  111.0    Male  108623.0\n",
      "994                   Cuba   43.0  Female   93962.0\n",
      "995                 Brazil   50.0  Female  143198.0\n",
      "996                 Poland  135.0  Female   72302.0\n",
      "997               Portugal  142.0    Male   54861.0\n",
      "998              Indonesia  123.0  Female   62233.0\n",
      "999                  China   51.0     NaN       NaN\n",
      "\n",
      "[1000 rows x 4 columns]\n"
     ]
    }
   ],
   "source": [
    "print(data)"
   ]
  },
  {
   "cell_type": "code",
   "execution_count": 4,
   "metadata": {},
   "outputs": [
    {
     "name": "stdout",
     "output_type": "stream",
     "text": [
      "          country    age  gender    salary\n",
      "0          Poland    NaN  Female  119459.0\n",
      "1        Colombia   73.0    Male  109999.0\n",
      "2           China    NaN    Male  135392.0\n",
      "3       Indonesia   91.0    Male   49886.0\n",
      "4  Czech Republic   53.0    Male  103178.0\n",
      "5          Canada  136.0  Female  131605.0\n",
      "6       Indonesia    NaN    Male  146128.0\n",
      "7           China    NaN  Female  119298.0\n",
      "8           China  116.0  Female  123175.0\n",
      "9         Vietnam  114.0     NaN  138617.0\n"
     ]
    }
   ],
   "source": [
    "print(data.head(10))"
   ]
  },
  {
   "cell_type": "code",
   "execution_count": 5,
   "metadata": {},
   "outputs": [
    {
     "name": "stdout",
     "output_type": "stream",
     "text": [
      "            country    age  gender    salary\n",
      "990          Russia   41.0    Male  135264.0\n",
      "991         Ecuador   78.0  Female   42266.0\n",
      "992       Indonesia   69.0    Male  123124.0\n",
      "993  Czech Republic  111.0    Male  108623.0\n",
      "994            Cuba   43.0  Female   93962.0\n",
      "995          Brazil   50.0  Female  143198.0\n",
      "996          Poland  135.0  Female   72302.0\n",
      "997        Portugal  142.0    Male   54861.0\n",
      "998       Indonesia  123.0  Female   62233.0\n",
      "999           China   51.0     NaN       NaN\n"
     ]
    }
   ],
   "source": [
    "print(data.tail(10))"
   ]
  },
  {
   "cell_type": "markdown",
   "metadata": {},
   "source": [
    "## Impute the age"
   ]
  },
  {
   "cell_type": "code",
   "execution_count": 6,
   "metadata": {},
   "outputs": [
    {
     "data": {
      "text/plain": [
       "892"
      ]
     },
     "execution_count": 6,
     "metadata": {},
     "output_type": "execute_result"
    }
   ],
   "source": [
    "X['age'].count()"
   ]
  },
  {
   "cell_type": "code",
   "execution_count": 7,
   "metadata": {},
   "outputs": [
    {
     "data": {
      "text/plain": [
       "108"
      ]
     },
     "execution_count": 7,
     "metadata": {},
     "output_type": "execute_result"
    }
   ],
   "source": [
    "#How to get the number of NaN's\n",
    "X['age'].isna().sum()"
   ]
  },
  {
   "cell_type": "code",
   "execution_count": 8,
   "metadata": {},
   "outputs": [],
   "source": [
    "#import imputer\n",
    "from sklearn.preprocessing import Imputer\n",
    "#impute age\n",
    "#we have to instantiate the imputer object with parameters that we need\n",
    "imputer = Imputer(missing_values = 'NaN', strategy = 'mean', axis = 0)#NaN means not a number. axis means which direction rows = 1, columns = 0\n",
    "X.iloc[:,1:2] = imputer.fit_transform(X.iloc[:,1:2])"
   ]
  },
  {
   "cell_type": "code",
   "execution_count": 9,
   "metadata": {},
   "outputs": [
    {
     "data": {
      "text/plain": [
       "0"
      ]
     },
     "execution_count": 9,
     "metadata": {},
     "output_type": "execute_result"
    }
   ],
   "source": [
    "#Check how many are NaN\n",
    "X['age'].isna().sum()"
   ]
  },
  {
   "cell_type": "markdown",
   "metadata": {},
   "source": [
    "## Encode + impute country"
   ]
  },
  {
   "cell_type": "code",
   "execution_count": 10,
   "metadata": {},
   "outputs": [
    {
     "data": {
      "text/plain": [
       "China                    154\n",
       "Indonesia                115\n",
       "Russia                    61\n",
       "Philippines               51\n",
       "Poland                    40\n",
       "Brazil                    35\n",
       "Portugal                  33\n",
       "France                    30\n",
       "Sweden                    28\n",
       "Argentina                 23\n",
       "Greece                    18\n",
       "Japan                     18\n",
       "Czech Republic            17\n",
       "Colombia                  16\n",
       "Ukraine                   15\n",
       "United States             15\n",
       "Vietnam                   15\n",
       "Peru                      13\n",
       "Canada                    11\n",
       "Thailand                  11\n",
       "Mexico                     8\n",
       "Malaysia                   7\n",
       "Albania                    7\n",
       "Pakistan                   6\n",
       "Armenia                    6\n",
       "Netherlands                5\n",
       "Yemen                      5\n",
       "Nigeria                    5\n",
       "Norway                     5\n",
       "Cuba                       5\n",
       "                        ... \n",
       "Bahamas                    1\n",
       "Israel                     1\n",
       "New Zealand                1\n",
       "Zimbabwe                   1\n",
       "Costa Rica                 1\n",
       "Azerbaijan                 1\n",
       "Senegal                    1\n",
       "Guinea                     1\n",
       "Dominica                   1\n",
       "Equatorial Guinea          1\n",
       "Falkland Islands           1\n",
       "Cameroon                   1\n",
       "Italy                      1\n",
       "Luxembourg                 1\n",
       "Palestinian Territory      1\n",
       "Switzerland                1\n",
       "Monaco                     1\n",
       "Libya                      1\n",
       "Maldives                   1\n",
       "Malawi                     1\n",
       "Niger                      1\n",
       "Georgia                    1\n",
       "Ghana                      1\n",
       "Denmark                    1\n",
       "Panama                     1\n",
       "Tunisia                    1\n",
       "Germany                    1\n",
       "Slovenia                   1\n",
       "Myanmar                    1\n",
       "Liberia                    1\n",
       "Name: country, Length: 118, dtype: int64"
      ]
     },
     "execution_count": 10,
     "metadata": {},
     "output_type": "execute_result"
    }
   ],
   "source": [
    "X['country'].value_counts()"
   ]
  },
  {
   "cell_type": "code",
   "execution_count": 11,
   "metadata": {},
   "outputs": [
    {
     "data": {
      "text/plain": [
       "946"
      ]
     },
     "execution_count": 11,
     "metadata": {},
     "output_type": "execute_result"
    }
   ],
   "source": [
    "X['country'].count()"
   ]
  },
  {
   "cell_type": "code",
   "execution_count": 12,
   "metadata": {},
   "outputs": [
    {
     "data": {
      "text/plain": [
       "54"
      ]
     },
     "execution_count": 12,
     "metadata": {},
     "output_type": "execute_result"
    }
   ],
   "source": [
    "#How to get the number of NaN's\n",
    "X['country'].isna().sum()"
   ]
  },
  {
   "cell_type": "code",
   "execution_count": 13,
   "metadata": {},
   "outputs": [
    {
     "name": "stderr",
     "output_type": "stream",
     "text": [
      "/home/kevin/.local/lib/python3.6/site-packages/sklearn/preprocessing/label.py:111: DataConversionWarning: A column-vector y was passed when a 1d array was expected. Please change the shape of y to (n_samples, ), for example using ravel().\n",
      "  y = column_or_1d(y, warn=True)\n"
     ]
    }
   ],
   "source": [
    "#Encode + impute country\n",
    "#we have to impute the nans which are strings, we convert the actual NaN into a string \"NaN\"\n",
    "X.loc[pd.isna(X['country']), 'country'] = 'NaN' #encode every nan into -1\n",
    "from sklearn.preprocessing import LabelEncoder, OneHotEncoder\n",
    "X_label_encoder = LabelEncoder()\n",
    "X.iloc[:, 0:1] = X_label_encoder.fit_transform(X.iloc[:, 0:1])#\n",
    "#get the location of the Nan Value\n",
    "missing_value_index = list(X_label_encoder.classes_).index('NaN')\n",
    "#impute the data\n",
    "imputer = Imputer(missing_values = missing_value_index, strategy = 'most_frequent', axis = 0)#NaN means not a number. axis means which direction rows = 1, columns = 0\n",
    "X.iloc[:,0:1] = imputer.fit_transform(X.iloc[:,0:1])"
   ]
  },
  {
   "cell_type": "code",
   "execution_count": 14,
   "metadata": {},
   "outputs": [
    {
     "data": {
      "text/plain": [
       "0"
      ]
     },
     "execution_count": 14,
     "metadata": {},
     "output_type": "execute_result"
    }
   ],
   "source": [
    "#Now lets see how many NAs we get\n",
    "X['country'].isna().sum()"
   ]
  },
  {
   "cell_type": "markdown",
   "metadata": {},
   "source": [
    "## encode + impute gender"
   ]
  },
  {
   "cell_type": "code",
   "execution_count": 15,
   "metadata": {},
   "outputs": [
    {
     "name": "stdout",
     "output_type": "stream",
     "text": [
      "Male      459\n",
      "Female    445\n",
      "Name: gender, dtype: int64\n",
      "1000\n"
     ]
    }
   ],
   "source": [
    "print(X['gender'].value_counts())\n",
    "print(len(X['gender']))"
   ]
  },
  {
   "cell_type": "code",
   "execution_count": 16,
   "metadata": {},
   "outputs": [
    {
     "data": {
      "text/plain": [
       "904"
      ]
     },
     "execution_count": 16,
     "metadata": {},
     "output_type": "execute_result"
    }
   ],
   "source": [
    "X['gender'].count()"
   ]
  },
  {
   "cell_type": "code",
   "execution_count": 17,
   "metadata": {},
   "outputs": [
    {
     "data": {
      "text/plain": [
       "96"
      ]
     },
     "execution_count": 17,
     "metadata": {},
     "output_type": "execute_result"
    }
   ],
   "source": [
    "#How to get the number of NaN's\n",
    "X['gender'].isna().sum()"
   ]
  },
  {
   "cell_type": "code",
   "execution_count": 18,
   "metadata": {},
   "outputs": [
    {
     "data": {
      "text/html": [
       "<div>\n",
       "<style scoped>\n",
       "    .dataframe tbody tr th:only-of-type {\n",
       "        vertical-align: middle;\n",
       "    }\n",
       "\n",
       "    .dataframe tbody tr th {\n",
       "        vertical-align: top;\n",
       "    }\n",
       "\n",
       "    .dataframe thead th {\n",
       "        text-align: right;\n",
       "    }\n",
       "</style>\n",
       "<table border=\"1\" class=\"dataframe\">\n",
       "  <thead>\n",
       "    <tr style=\"text-align: right;\">\n",
       "      <th></th>\n",
       "      <th>country</th>\n",
       "      <th>age</th>\n",
       "      <th>gender</th>\n",
       "    </tr>\n",
       "  </thead>\n",
       "  <tbody>\n",
       "    <tr>\n",
       "      <th>995</th>\n",
       "      <td>16.0</td>\n",
       "      <td>50.0</td>\n",
       "      <td>Female</td>\n",
       "    </tr>\n",
       "    <tr>\n",
       "      <th>996</th>\n",
       "      <td>92.0</td>\n",
       "      <td>135.0</td>\n",
       "      <td>Female</td>\n",
       "    </tr>\n",
       "    <tr>\n",
       "      <th>997</th>\n",
       "      <td>93.0</td>\n",
       "      <td>142.0</td>\n",
       "      <td>Male</td>\n",
       "    </tr>\n",
       "    <tr>\n",
       "      <th>998</th>\n",
       "      <td>51.0</td>\n",
       "      <td>123.0</td>\n",
       "      <td>Female</td>\n",
       "    </tr>\n",
       "    <tr>\n",
       "      <th>999</th>\n",
       "      <td>23.0</td>\n",
       "      <td>51.0</td>\n",
       "      <td>NaN</td>\n",
       "    </tr>\n",
       "  </tbody>\n",
       "</table>\n",
       "</div>"
      ],
      "text/plain": [
       "     country    age  gender\n",
       "995     16.0   50.0  Female\n",
       "996     92.0  135.0  Female\n",
       "997     93.0  142.0    Male\n",
       "998     51.0  123.0  Female\n",
       "999     23.0   51.0     NaN"
      ]
     },
     "execution_count": 18,
     "metadata": {},
     "output_type": "execute_result"
    }
   ],
   "source": [
    "#Lets look at last 5 rows\n",
    "X.tail(5)"
   ]
  },
  {
   "cell_type": "markdown",
   "metadata": {},
   "source": [
    "# Assignment"
   ]
  },
  {
   "cell_type": "markdown",
   "metadata": {},
   "source": [
    "## Impute the gender"
   ]
  },
  {
   "cell_type": "code",
   "execution_count": 19,
   "metadata": {},
   "outputs": [],
   "source": [
    "#Hint: use the imputer"
   ]
  },
  {
   "cell_type": "code",
   "execution_count": 20,
   "metadata": {},
   "outputs": [],
   "source": [
    "#convert the true NaN to a string 'NaN'\n",
    "X.loc[pd.isna(X['gender']), 'gender'] = 'NaN'"
   ]
  },
  {
   "cell_type": "code",
   "execution_count": 21,
   "metadata": {},
   "outputs": [
    {
     "name": "stderr",
     "output_type": "stream",
     "text": [
      "/home/kevin/.local/lib/python3.6/site-packages/sklearn/preprocessing/label.py:111: DataConversionWarning: A column-vector y was passed when a 1d array was expected. Please change the shape of y to (n_samples, ), for example using ravel().\n",
      "  y = column_or_1d(y, warn=True)\n"
     ]
    }
   ],
   "source": [
    "#encode genders into labels\n",
    "X_label_encoder = LabelEncoder()\n",
    "X.iloc[:, 2:3] = X_label_encoder.fit_transform(X.iloc[:, 2:3])#"
   ]
  },
  {
   "cell_type": "code",
   "execution_count": 22,
   "metadata": {},
   "outputs": [
    {
     "name": "stdout",
     "output_type": "stream",
     "text": [
      "1    459\n",
      "0    445\n",
      "2     96\n",
      "Name: gender, dtype: int64\n",
      "1000\n"
     ]
    }
   ],
   "source": [
    "print(X['gender'].value_counts())\n",
    "print(len(X['gender']))"
   ]
  },
  {
   "cell_type": "code",
   "execution_count": 25,
   "metadata": {},
   "outputs": [],
   "source": [
    "missing_value_index = list(X_label_encoder.classes_).index('NaN')\n",
    "imputer = Imputer(missing_values = missing_value_index, strategy = 'most_frequent', axis = 0)#NaN means not a number. axis means which direction rows = 1, columns = 0\n",
    "X.iloc[:,2:3] = imputer.fit_transform(X.iloc[:,2:3])"
   ]
  },
  {
   "cell_type": "code",
   "execution_count": 26,
   "metadata": {},
   "outputs": [
    {
     "name": "stdout",
     "output_type": "stream",
     "text": [
      "1.0    555\n",
      "0.0    445\n",
      "Name: gender, dtype: int64\n",
      "1000\n"
     ]
    }
   ],
   "source": [
    "print(X['gender'].value_counts())\n",
    "print(len(X['gender']))"
   ]
  },
  {
   "cell_type": "code",
   "execution_count": null,
   "metadata": {},
   "outputs": [],
   "source": [
    "#encode + impute gender\n",
    "X_label_encoder = LabelEncoder()\n",
    "X.iloc[:, 2:3] = X_label_encoder.fit_transform(X.iloc[:, 2:3])"
   ]
  },
  {
   "cell_type": "code",
   "execution_count": 27,
   "metadata": {},
   "outputs": [],
   "source": [
    "onehotencoder = OneHotEncoder(categorical_features = [0,2])\n",
    "X = pd.DataFrame(onehotencoder.fit_transform(X).toarray())#we lost interpretability"
   ]
  },
  {
   "cell_type": "code",
   "execution_count": 28,
   "metadata": {},
   "outputs": [
    {
     "name": "stdout",
     "output_type": "stream",
     "text": [
      "   0    1    2    3    4    5    6    7    8    9      ...      111  112  113  \\\n",
      "0  0.0  0.0  0.0  0.0  0.0  0.0  0.0  0.0  0.0  0.0    ...      0.0  0.0  0.0   \n",
      "1  0.0  0.0  0.0  0.0  0.0  0.0  0.0  0.0  0.0  0.0    ...      0.0  0.0  0.0   \n",
      "2  0.0  0.0  0.0  0.0  0.0  0.0  0.0  0.0  0.0  0.0    ...      0.0  0.0  0.0   \n",
      "3  0.0  0.0  0.0  0.0  0.0  0.0  0.0  0.0  0.0  0.0    ...      0.0  0.0  0.0   \n",
      "4  0.0  0.0  0.0  0.0  0.0  0.0  0.0  0.0  0.0  0.0    ...      0.0  0.0  0.0   \n",
      "\n",
      "   114  115  116  117  118  119        120  \n",
      "0  0.0  0.0  0.0  0.0  1.0  0.0  83.799327  \n",
      "1  0.0  0.0  0.0  0.0  0.0  1.0  73.000000  \n",
      "2  0.0  0.0  0.0  0.0  0.0  1.0  83.799327  \n",
      "3  0.0  0.0  0.0  0.0  0.0  1.0  91.000000  \n",
      "4  0.0  0.0  0.0  0.0  0.0  1.0  53.000000  \n",
      "\n",
      "[5 rows x 121 columns]\n"
     ]
    }
   ],
   "source": [
    "print (X.head(5))"
   ]
  },
  {
   "cell_type": "markdown",
   "metadata": {},
   "source": [
    "## Split the data in to training and testing sets"
   ]
  },
  {
   "cell_type": "code",
   "execution_count": 29,
   "metadata": {},
   "outputs": [],
   "source": [
    "#create train test split\n",
    "from sklearn.model_selection import train_test_split\n",
    "X_train, X_test, y_train, y_test = train_test_split(X, y, test_size=0.20, random_state=0)\n"
   ]
  },
  {
   "cell_type": "markdown",
   "metadata": {},
   "source": [
    "## Scale the Data"
   ]
  },
  {
   "cell_type": "code",
   "execution_count": 30,
   "metadata": {},
   "outputs": [],
   "source": [
    "#Scale the data\n",
    "from sklearn.preprocessing import StandardScaler\n",
    "sc_X = StandardScaler()\n",
    "X_train = sc_X.fit_transform(X_train)\n",
    "X_test = sc_X.transform(X_test)"
   ]
  },
  {
   "cell_type": "markdown",
   "metadata": {},
   "source": [
    "## For the categorical variables instead of using sklearn to impute and conver to one-hot we can use the builtin pandas function get_dummies"
   ]
  },
  {
   "cell_type": "code",
   "execution_count": 31,
   "metadata": {},
   "outputs": [],
   "source": [
    "#use this function. It will create the dummy variables and impute the data:\n",
    "def produce_dummies(X, label):#gives us the mode for the categorical variable\n",
    "    dummies = pd.get_dummies(X[label], dummy_na = True)\n",
    "    mode_label = dummies.sum().sort_values(ascending=False, inplace=False).head(1).index[0]\n",
    "    dummies[mode_label] += dummies[None]\n",
    "    del dummies[None]\n",
    "    X = pd.concat([X, dummies], axis=1)#make the dummies and concat with original data\n",
    "    X.drop(label, inplace=True, axis=1)#drop the original columns\n",
    "    return X"
   ]
  },
  {
   "cell_type": "code",
   "execution_count": 34,
   "metadata": {},
   "outputs": [
    {
     "name": "stdout",
     "output_type": "stream",
     "text": [
      "         age  Afghanistan  Albania  American Samoa  Angola  Anguilla  \\\n",
      "0  83.799327            0        0               0       0         0   \n",
      "1  73.000000            0        0               0       0         0   \n",
      "2  83.799327            0        0               0       0         0   \n",
      "3  91.000000            0        0               0       0         0   \n",
      "4  53.000000            0        0               0       0         0   \n",
      "\n",
      "   Antigua and Barbuda  Argentina  Armenia  Austria  ...   United Kingdom  \\\n",
      "0                    0          0        0        0  ...                0   \n",
      "1                    0          0        0        0  ...                0   \n",
      "2                    0          0        0        0  ...                0   \n",
      "3                    0          0        0        0  ...                0   \n",
      "4                    0          0        0        0  ...                0   \n",
      "\n",
      "   United States  Uzbekistan  Vanuatu  Venezuela  Vietnam  Yemen  Zimbabwe  \\\n",
      "0              0           0        0          0        0      0         0   \n",
      "1              0           0        0          0        0      0         0   \n",
      "2              0           0        0          0        0      0         0   \n",
      "3              0           0        0          0        0      0         0   \n",
      "4              0           0        0          0        0      0         0   \n",
      "\n",
      "   Female  Male  \n",
      "0       1     0  \n",
      "1       0     1  \n",
      "2       0     1  \n",
      "3       0     1  \n",
      "4       0     1  \n",
      "\n",
      "[5 rows x 121 columns]\n"
     ]
    }
   ],
   "source": [
    "from sklearn.preprocessing import Imputer\n",
    "imputer = Imputer(missing_values = 'NaN', strategy = 'mean', axis = 0)#NaN means not a number. axis means which direction rows = 1, columns = 0\n",
    "X = data.iloc[:,0:3]#variables\n",
    "y = data.iloc[:,3]#variables\n",
    "X.iloc[:,1:2] = imputer.fit_transform(X.iloc[:,1:2])\n",
    "#use special function\n",
    "X = produce_dummies(X, 'country')\n",
    "X = produce_dummies(X, 'gender')\n",
    "print(X.head(5))"
   ]
  },
  {
   "cell_type": "code",
   "execution_count": 35,
   "metadata": {},
   "outputs": [
    {
     "data": {
      "text/html": [
       "<div>\n",
       "<style scoped>\n",
       "    .dataframe tbody tr th:only-of-type {\n",
       "        vertical-align: middle;\n",
       "    }\n",
       "\n",
       "    .dataframe tbody tr th {\n",
       "        vertical-align: top;\n",
       "    }\n",
       "\n",
       "    .dataframe thead th {\n",
       "        text-align: right;\n",
       "    }\n",
       "</style>\n",
       "<table border=\"1\" class=\"dataframe\">\n",
       "  <thead>\n",
       "    <tr style=\"text-align: right;\">\n",
       "      <th></th>\n",
       "      <th>age</th>\n",
       "      <th>salary</th>\n",
       "    </tr>\n",
       "  </thead>\n",
       "  <tbody>\n",
       "    <tr>\n",
       "      <th>count</th>\n",
       "      <td>892.000000</td>\n",
       "      <td>916.000000</td>\n",
       "    </tr>\n",
       "    <tr>\n",
       "      <th>mean</th>\n",
       "      <td>83.799327</td>\n",
       "      <td>84892.482533</td>\n",
       "    </tr>\n",
       "    <tr>\n",
       "      <th>std</th>\n",
       "      <td>39.582205</td>\n",
       "      <td>37461.694973</td>\n",
       "    </tr>\n",
       "    <tr>\n",
       "      <th>min</th>\n",
       "      <td>18.000000</td>\n",
       "      <td>20049.000000</td>\n",
       "    </tr>\n",
       "    <tr>\n",
       "      <th>25%</th>\n",
       "      <td>48.000000</td>\n",
       "      <td>53300.750000</td>\n",
       "    </tr>\n",
       "    <tr>\n",
       "      <th>50%</th>\n",
       "      <td>85.000000</td>\n",
       "      <td>83250.000000</td>\n",
       "    </tr>\n",
       "    <tr>\n",
       "      <th>75%</th>\n",
       "      <td>119.000000</td>\n",
       "      <td>118298.750000</td>\n",
       "    </tr>\n",
       "    <tr>\n",
       "      <th>max</th>\n",
       "      <td>150.000000</td>\n",
       "      <td>149186.000000</td>\n",
       "    </tr>\n",
       "  </tbody>\n",
       "</table>\n",
       "</div>"
      ],
      "text/plain": [
       "              age         salary\n",
       "count  892.000000     916.000000\n",
       "mean    83.799327   84892.482533\n",
       "std     39.582205   37461.694973\n",
       "min     18.000000   20049.000000\n",
       "25%     48.000000   53300.750000\n",
       "50%     85.000000   83250.000000\n",
       "75%    119.000000  118298.750000\n",
       "max    150.000000  149186.000000"
      ]
     },
     "execution_count": 35,
     "metadata": {},
     "output_type": "execute_result"
    }
   ],
   "source": [
    "#25% of the values are less than 48 for age\n",
    "data.describe()"
   ]
  },
  {
   "cell_type": "markdown",
   "metadata": {},
   "source": [
    "# Jepordy"
   ]
  },
  {
   "cell_type": "code",
   "execution_count": 37,
   "metadata": {},
   "outputs": [],
   "source": [
    "#1)What does this code do?\n",
    "li = list(np.random.randint(0,100, 20))"
   ]
  },
  {
   "cell_type": "code",
   "execution_count": 38,
   "metadata": {},
   "outputs": [
    {
     "ename": "TypeError",
     "evalue": "'list' object cannot be interpreted as an integer",
     "output_type": "error",
     "traceback": [
      "\u001b[0;31m---------------------------------------------------------------------------\u001b[0m",
      "\u001b[0;31mTypeError\u001b[0m                                 Traceback (most recent call last)",
      "\u001b[0;32m<ipython-input-38-85c3b7ca8f53>\u001b[0m in \u001b[0;36m<module>\u001b[0;34m()\u001b[0m\n\u001b[1;32m      1\u001b[0m \u001b[0;31m#What does this code do?\u001b[0m\u001b[0;34m\u001b[0m\u001b[0;34m\u001b[0m\u001b[0;34m\u001b[0m\u001b[0m\n\u001b[1;32m      2\u001b[0m \u001b[0;34m\u001b[0m\u001b[0m\n\u001b[0;32m----> 3\u001b[0;31m \u001b[0;32mfor\u001b[0m \u001b[0mi\u001b[0m \u001b[0;32min\u001b[0m \u001b[0mrange\u001b[0m\u001b[0;34m(\u001b[0m\u001b[0mli\u001b[0m\u001b[0;34m)\u001b[0m\u001b[0;34m:\u001b[0m\u001b[0;34m\u001b[0m\u001b[0;34m\u001b[0m\u001b[0m\n\u001b[0m\u001b[1;32m      4\u001b[0m     \u001b[0mprint\u001b[0m\u001b[0;34m(\u001b[0m\u001b[0mli\u001b[0m\u001b[0;34m)\u001b[0m\u001b[0;34m\u001b[0m\u001b[0;34m\u001b[0m\u001b[0m\n",
      "\u001b[0;31mTypeError\u001b[0m: 'list' object cannot be interpreted as an integer"
     ]
    }
   ],
   "source": [
    "#2)Why are we getting this error?\n",
    "\n",
    "for i in range(li):\n",
    "    print(li)"
   ]
  },
  {
   "cell_type": "code",
   "execution_count": 42,
   "metadata": {},
   "outputs": [
    {
     "name": "stdout",
     "output_type": "stream",
     "text": [
      "None\n"
     ]
    }
   ],
   "source": [
    "#3)What does this code do?\n",
    "def g(x):\n",
    "    x*2\n",
    "print(g(2))"
   ]
  },
  {
   "cell_type": "code",
   "execution_count": null,
   "metadata": {},
   "outputs": [],
   "source": [
    "#4)How can we fix it?"
   ]
  },
  {
   "cell_type": "code",
   "execution_count": null,
   "metadata": {},
   "outputs": [],
   "source": [
    "#5)\n",
    "a = 5\n",
    "def h(a)\n",
    "    a = a*2\n",
    "    return a\n",
    "#What is a?"
   ]
  },
  {
   "cell_type": "markdown",
   "metadata": {},
   "source": [
    "When would you want to use a for loop?"
   ]
  },
  {
   "cell_type": "markdown",
   "metadata": {},
   "source": [
    "When would you want to define a function?"
   ]
  },
  {
   "cell_type": "markdown",
   "metadata": {},
   "source": [
    "When would you want to define a function"
   ]
  },
  {
   "cell_type": "markdown",
   "metadata": {},
   "source": [
    "Why do we import libraries?"
   ]
  },
  {
   "cell_type": "markdown",
   "metadata": {},
   "source": [
    "Why do we import libraries"
   ]
  },
  {
   "cell_type": "markdown",
   "metadata": {},
   "source": [
    "What is imputation and why do we do it?"
   ]
  },
  {
   "cell_type": "markdown",
   "metadata": {},
   "source": [
    "What is imputation and why do we do it"
   ]
  },
  {
   "cell_type": "markdown",
   "metadata": {},
   "source": [
    "What is the difference between training data and test data?"
   ]
  },
  {
   "cell_type": "markdown",
   "metadata": {},
   "source": [
    "What is the least enjoyable part of a data scientist's job?"
   ]
  },
  {
   "cell_type": "markdown",
   "metadata": {},
   "source": [
    "What is an outlier? Should we get rid of it?"
   ]
  },
  {
   "cell_type": "markdown",
   "metadata": {},
   "source": [
    "Why is it important to do data cleaning and preprocessing?"
   ]
  },
  {
   "cell_type": "markdown",
   "metadata": {},
   "source": [
    "What is overfitting?"
   ]
  },
  {
   "cell_type": "markdown",
   "metadata": {},
   "source": [
    "What is generalization?"
   ]
  },
  {
   "cell_type": "markdown",
   "metadata": {},
   "source": [
    "When you define a function, when should you use the \"return\" command?"
   ]
  },
  {
   "cell_type": "markdown",
   "metadata": {},
   "source": [
    "Why do variables inside a function don't interact with variables outside the function?"
   ]
  },
  {
   "cell_type": "markdown",
   "metadata": {},
   "source": [
    "When we are not sure how to do something in python, what should we do?\n"
   ]
  },
  {
   "cell_type": "code",
   "execution_count": null,
   "metadata": {},
   "outputs": [],
   "source": []
  }
 ],
 "metadata": {
  "kernelspec": {
   "display_name": "Python 3",
   "language": "python",
   "name": "python3"
  },
  "language_info": {
   "codemirror_mode": {
    "name": "ipython",
    "version": 3
   },
   "file_extension": ".py",
   "mimetype": "text/x-python",
   "name": "python",
   "nbconvert_exporter": "python",
   "pygments_lexer": "ipython3",
   "version": "3.6.8"
  }
 },
 "nbformat": 4,
 "nbformat_minor": 2
}
