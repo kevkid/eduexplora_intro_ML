{
 "cells": [
  {
   "cell_type": "code",
   "execution_count": null,
   "metadata": {},
   "outputs": [],
   "source": [
    "import pandas as pd\n",
    "#the library is imported now lets import our data using a nice pandas function called read_csv\n",
    "#we would do:\n",
    "data = pd.read_csv('DATA.csv')#\n",
    "X = data.iloc[:,0:3]#variables\n",
    "y = data.iloc[:,3]#variables"
   ]
  },
  {
   "cell_type": "code",
   "execution_count": null,
   "metadata": {},
   "outputs": [],
   "source": [
    "#import imputer\n",
    "from sklearn.preprocessing import Imputer\n",
    "#we have to instantiate the imputer object with parameters that we need\n",
    "imputer = Imputer(missing_values = 'NaN', strategy = 'mean', axis = 0)#NaN means not a number. axis means which direction rows = 1, columns = 0\n",
    "X.iloc[:,1:2] = imputer.fit_transform(X.iloc[:,1:2])"
   ]
  },
  {
   "cell_type": "code",
   "execution_count": null,
   "metadata": {},
   "outputs": [],
   "source": [
    "#we have to impute the nans which are strings, we convert the actual NaN into a string \"NaN\"\n",
    "X.loc[pd.isna(X['country']), 'country'] = 'NaN' #encode every nan into -1\n",
    "\n",
    "from sklearn.preprocessing import LabelEncoder, OneHotEncoder\n",
    "X_label_encoder = LabelEncoder()\n",
    "X.iloc[:, 0:1] = X_label_encoder.fit_transform(X.iloc[:, 0:1])#\n",
    "\n",
    "#get the location of the Nan Value\n",
    "missing_value_index = list(X_label_encoder.classes_).index('NaN')\n",
    "imputer = Imputer(missing_values = missing_value_index, strategy = 'most_frequent', axis = 0)#NaN means not a number. axis means which direction rows = 1, columns = 0\n",
    "X.iloc[:,0:1] = imputer.fit_transform(X.iloc[:,0:1])"
   ]
  },
  {
   "cell_type": "code",
   "execution_count": null,
   "metadata": {},
   "outputs": [],
   "source": [
    "from sklearn.model_selection import train_test_split\n",
    "X_train, X_test, y_train, y_test = train_test_split(X, y, test_size=0.20, random_state=0)"
   ]
  }
 ],
 "metadata": {
  "kernelspec": {
   "display_name": "Python 3",
   "language": "python",
   "name": "python3"
  },
  "language_info": {
   "codemirror_mode": {
    "name": "ipython",
    "version": 3
   },
   "file_extension": ".py",
   "mimetype": "text/x-python",
   "name": "python",
   "nbconvert_exporter": "python",
   "pygments_lexer": "ipython3",
   "version": "3.6.5"
  }
 },
 "nbformat": 4,
 "nbformat_minor": 2
}
