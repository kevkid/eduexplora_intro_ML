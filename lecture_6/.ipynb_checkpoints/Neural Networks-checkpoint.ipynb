{
 "cells": [
  {
   "cell_type": "code",
   "execution_count": 14,
   "metadata": {},
   "outputs": [],
   "source": [
    "import pandas as pd\n",
    "import numpy as np\n",
    "import matplotlib.pyplot as plt\n",
    "import torch\n",
    "import torch.nn as nn\n",
    "import torch.nn.functional as F#i assume this is the functional api"
   ]
  },
  {
   "cell_type": "code",
   "execution_count": 15,
   "metadata": {},
   "outputs": [],
   "source": [
    "#Lets define our neural network\n",
    "class Perceptron(nn.Module):\n",
    "\n",
    "    def __init__(self):\n",
    "        super(Perceptron, self).__init__()\n",
    "        # an affine operation: y = Wx + b\n",
    "        self.fc1 = nn.Linear(2, 10)\n",
    "        self.fc2 = nn.Linear(10, 2)\n",
    "    #we define this function to tell the network how to pass the input through the network.\n",
    "    #the backwards function will automatically be defines using autograd\n",
    "    def forward(self, x):\n",
    "        x = torch.tanh(self.fc1(x))\n",
    "        x = (self.fc2(x))\n",
    "        return x\n"
   ]
  },
  {
   "cell_type": "code",
   "execution_count": 16,
   "metadata": {},
   "outputs": [
    {
     "name": "stdout",
     "output_type": "stream",
     "text": [
      "Perceptron(\n",
      "  (fc1): Linear(in_features=2, out_features=10, bias=True)\n",
      "  (fc2): Linear(in_features=10, out_features=2, bias=True)\n",
      ")\n"
     ]
    }
   ],
   "source": [
    "classifier = Perceptron()\n",
    "print(classifier)"
   ]
  },
  {
   "cell_type": "code",
   "execution_count": null,
   "metadata": {},
   "outputs": [],
   "source": []
  },
  {
   "cell_type": "code",
   "execution_count": 17,
   "metadata": {},
   "outputs": [
    {
     "data": {
      "text/html": [
       "<div>\n",
       "<style scoped>\n",
       "    .dataframe tbody tr th:only-of-type {\n",
       "        vertical-align: middle;\n",
       "    }\n",
       "\n",
       "    .dataframe tbody tr th {\n",
       "        vertical-align: top;\n",
       "    }\n",
       "\n",
       "    .dataframe thead th {\n",
       "        text-align: right;\n",
       "    }\n",
       "</style>\n",
       "<table border=\"1\" class=\"dataframe\">\n",
       "  <thead>\n",
       "    <tr style=\"text-align: right;\">\n",
       "      <th></th>\n",
       "      <th>X1</th>\n",
       "      <th>X2</th>\n",
       "      <th>y</th>\n",
       "    </tr>\n",
       "  </thead>\n",
       "  <tbody>\n",
       "    <tr>\n",
       "      <th>0</th>\n",
       "      <td>0.0</td>\n",
       "      <td>0.0</td>\n",
       "      <td>0</td>\n",
       "    </tr>\n",
       "    <tr>\n",
       "      <th>1</th>\n",
       "      <td>0.0</td>\n",
       "      <td>1.0</td>\n",
       "      <td>1</td>\n",
       "    </tr>\n",
       "    <tr>\n",
       "      <th>2</th>\n",
       "      <td>1.0</td>\n",
       "      <td>0.0</td>\n",
       "      <td>1</td>\n",
       "    </tr>\n",
       "    <tr>\n",
       "      <th>3</th>\n",
       "      <td>1.0</td>\n",
       "      <td>1.0</td>\n",
       "      <td>0</td>\n",
       "    </tr>\n",
       "  </tbody>\n",
       "</table>\n",
       "</div>"
      ],
      "text/plain": [
       "    X1   X2  y\n",
       "0  0.0  0.0  0\n",
       "1  0.0  1.0  1\n",
       "2  1.0  0.0  1\n",
       "3  1.0  1.0  0"
      ]
     },
     "execution_count": 17,
     "metadata": {},
     "output_type": "execute_result"
    }
   ],
   "source": [
    "xor = pd.DataFrame({'X1':[0.,0.,1.,1.], 'X2':[0.,1.,0.,1.], 'y':[0,1,1,0]})\n",
    "xor"
   ]
  },
  {
   "cell_type": "code",
   "execution_count": 18,
   "metadata": {},
   "outputs": [],
   "source": [
    "#Lets load in our datasets:\n",
    "import torch.utils.data as data_utils\n",
    "#Why do we have to use from numpy?\n",
    "features = torch.from_numpy(xor.iloc[:,:2].values).float()\n",
    "targets = torch.from_numpy(xor.iloc[:,2].values).long()\n",
    "train = data_utils.TensorDataset(features, targets)\n",
    "trainloader = data_utils.DataLoader(train, batch_size=1, shuffle=True)"
   ]
  },
  {
   "cell_type": "code",
   "execution_count": 19,
   "metadata": {},
   "outputs": [
    {
     "name": "stdout",
     "output_type": "stream",
     "text": [
      "Epoch: 0, loss: 0.6867968440055847\n",
      "Epoch: 500, loss: 0.6757012009620667\n",
      "Epoch: 1000, loss: 0.6650758981704712\n",
      "Epoch: 1500, loss: 0.6516917943954468\n",
      "Epoch: 2000, loss: 0.6343511343002319\n",
      "Epoch: 2500, loss: 0.6118475794792175\n",
      "Epoch: 3000, loss: 0.5830647349357605\n",
      "Epoch: 3500, loss: 0.5471850037574768\n",
      "Epoch: 4000, loss: 0.5039811134338379\n",
      "Epoch: 4500, loss: 0.4542961120605469\n",
      "Epoch: 5000, loss: 0.40044963359832764\n",
      "Epoch: 5500, loss: 0.34604060649871826\n",
      "Epoch: 6000, loss: 0.294829398393631\n",
      "Epoch: 6500, loss: 0.24949020147323608\n",
      "Epoch: 7000, loss: 0.21110984683036804\n",
      "Epoch: 7500, loss: 0.17951133847236633\n",
      "Epoch: 8000, loss: 0.15385007858276367\n",
      "Epoch: 8500, loss: 0.1330862194299698\n",
      "Epoch: 9000, loss: 0.11623917520046234\n",
      "Epoch: 9500, loss: 0.1024802178144455\n",
      "Training Done\n"
     ]
    }
   ],
   "source": [
    "import torch.optim as optim\n",
    "epochs = 10000\n",
    "criterion = F.cross_entropy#loss function\n",
    "optimizer = optim.SGD(classifier.parameters(), lr=0.001)\n",
    "for epoch in range(epochs):\n",
    "    running_loss = 0.0\n",
    "    for i, data in enumerate(trainloader, 0):\n",
    "        x, labels = data\n",
    "        # zero the parameter gradients, we do not want to keep adding to the gradient after each minibatch\n",
    "        #what if we didnt do this?\n",
    "        optimizer.zero_grad()\n",
    "        \n",
    "        #forward\n",
    "        y_hat = classifier(x)\n",
    "        loss = criterion(y_hat, labels)#get the loss between the target and output, gets us our error\n",
    "        running_loss += loss\n",
    "        #backwards\n",
    "        loss.backward()#back prop\n",
    "        \n",
    "        #Gradient Descent\n",
    "        optimizer.step()#perform stochastic gradient desent.\n",
    "    if epoch % 500 == 0:\n",
    "        print('Epoch: {}, loss: {}'.format(epoch, running_loss/len(train)))\n",
    "print(\"Training Done\")"
   ]
  },
  {
   "cell_type": "code",
   "execution_count": 78,
   "metadata": {},
   "outputs": [
    {
     "data": {
      "text/plain": [
       "tensor([[1., 0.]])"
      ]
     },
     "execution_count": 78,
     "metadata": {},
     "output_type": "execute_result"
    }
   ],
   "source": []
  },
  {
   "cell_type": "code",
   "execution_count": 22,
   "metadata": {},
   "outputs": [
    {
     "data": {
      "image/png": "[encoded data removed]",
      "text/plain": [
       "<Figure size 432x288 with 1 Axes>"
      ]
     },
     "metadata": {},
     "output_type": "display_data"
    }
   ],
   "source": [
    "# Visualising the Testing set results\n",
    "from matplotlib.colors import ListedColormap\n",
    "X_set, y_set = xor.iloc[:,:2].values, xor.iloc[:,2].values\n",
    "X1, X2 = np.meshgrid(np.arange(start = X_set[:, 0].min() - 1, stop = X_set[:, 0].max() + 1, step = 0.01),\n",
    "                     np.arange(start = X_set[:, 1].min() - 1, stop = X_set[:, 1].max() + 1, step = 0.01))\n",
    "input_ = torch.tensor(np.array([X1.ravel(), X2.ravel()]).T).float()\n",
    "plt.contourf(X1, X2, torch.argmax(classifier(input_), dim=1).detach().numpy().reshape(X1.shape),\n",
    "             alpha = 0.5, cmap = ListedColormap(('red', 'green')))\n",
    "plt.xlim(X1.min(), X1.max())\n",
    "plt.ylim(X2.min(), X2.max())\n",
    "for i, j in enumerate(np.unique(y_set)):\n",
    "    plt.scatter(X_set[y_set == j, 0], X_set[y_set == j, 1],\n",
    "                c = ListedColormap(('red', 'green'))(i), label = j)\n",
    "plt.title('XOR problem 3 classes - XOR Dataset')\n",
    "plt.xlabel('X1 Values')\n",
    "plt.ylabel('X2 Values')\n",
    "plt.legend()\n",
    "plt.show()"
   ]
  },
  {
   "cell_type": "code",
   "execution_count": null,
   "metadata": {},
   "outputs": [],
   "source": []
  },
  {
   "cell_type": "code",
   "execution_count": null,
   "metadata": {},
   "outputs": [],
   "source": []
  }
 ],
 "metadata": {
  "kernelspec": {
   "display_name": "Python 3",
   "language": "python",
   "name": "python3"
  },
  "language_info": {
   "codemirror_mode": {
    "name": "ipython",
    "version": 3
   },
   "file_extension": ".py",
   "mimetype": "text/x-python",
   "name": "python",
   "nbconvert_exporter": "python",
   "pygments_lexer": "ipython3",
   "version": "3.6.8"
  }
 },
 "nbformat": 4,
 "nbformat_minor": 2
}
