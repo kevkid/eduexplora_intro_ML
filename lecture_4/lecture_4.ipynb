{
 "cells": [
  {
   "cell_type": "markdown",
   "metadata": {},
   "source": [
    "# Clustering"
   ]
  },
  {
   "cell_type": "markdown",
   "metadata": {},
   "source": [
    "### K-means"
   ]
  },
  {
   "cell_type": "code",
   "execution_count": null,
   "metadata": {},
   "outputs": [],
   "source": [
    "import matplotlib.pyplot as plt\n",
    "from matplotlib.colors import ListedColormap\n",
    "import random"
   ]
  },
  {
   "cell_type": "code",
   "execution_count": null,
   "metadata": {},
   "outputs": [],
   "source": [
    "def generateColors(n):\n",
    "    li = []\n",
    "    for i in range(n):\n",
    "        r = lambda: random.randint(0,255)\n",
    "        li.append('#%02X%02X%02X' % (r(),r(),r()))\n",
    "    return li"
   ]
  },
  {
   "cell_type": "code",
   "execution_count": null,
   "metadata": {},
   "outputs": [],
   "source": [
    "from sklearn.datasets.samples_generator import make_blobs\n",
    "X, y = make_blobs(n_samples=100, centers=2, n_features=2, random_state=6)"
   ]
  },
  {
   "cell_type": "code",
   "execution_count": null,
   "metadata": {},
   "outputs": [],
   "source": [
    "#before assigning cluster\n",
    "plt.scatter(X[:,0], X[:,1])"
   ]
  },
  {
   "cell_type": "code",
   "execution_count": null,
   "metadata": {},
   "outputs": [],
   "source": [
    "#after assigning clusters\n",
    "plt.scatter(X[:,0], X[:,1], c = y, cmap = ListedColormap(('red', 'green')))"
   ]
  },
  {
   "cell_type": "code",
   "execution_count": null,
   "metadata": {},
   "outputs": [],
   "source": [
    "from sklearn.cluster import KMeans\n",
    "kmeans = KMeans(n_clusters=2, random_state=0).fit(X)\n",
    "y_hat = kmeans.predict(X)\n",
    "plt.scatter(X[:,0], X[:,1], c = y_hat, cmap = ListedColormap(('red', 'green')))"
   ]
  },
  {
   "cell_type": "markdown",
   "metadata": {},
   "source": [
    "### Lets try with 3 clusters"
   ]
  },
  {
   "cell_type": "code",
   "execution_count": null,
   "metadata": {},
   "outputs": [],
   "source": [
    "### Make clusters\n",
    "from sklearn.datasets.samples_generator import make_blobs\n",
    "X, y = make_blobs(n_samples=100, centers=3, n_features=2, random_state=1)"
   ]
  },
  {
   "cell_type": "code",
   "execution_count": null,
   "metadata": {},
   "outputs": [],
   "source": [
    "#before assigning cluster\n",
    "plt.scatter(X[:,0], X[:,1])"
   ]
  },
  {
   "cell_type": "code",
   "execution_count": null,
   "metadata": {},
   "outputs": [],
   "source": [
    "#after assigning clusters\n",
    "plt.scatter(X[:,0], X[:,1], c = y, cmap = ListedColormap(('red', 'green', 'blue')))"
   ]
  },
  {
   "cell_type": "markdown",
   "metadata": {},
   "source": [
    "### Lets try k-means"
   ]
  },
  {
   "cell_type": "code",
   "execution_count": null,
   "metadata": {},
   "outputs": [],
   "source": [
    "from sklearn.cluster import KMeans\n",
    "kmeans = KMeans(n_clusters=3, random_state=0).fit(X)\n",
    "y_hat = kmeans.predict(X)\n",
    "plt.scatter(X[:,0], X[:,1], c = y_hat, cmap = ListedColormap(('red', 'green', 'blue')))"
   ]
  },
  {
   "cell_type": "markdown",
   "metadata": {},
   "source": [
    "### Harder version of 3 clusters"
   ]
  },
  {
   "cell_type": "code",
   "execution_count": null,
   "metadata": {},
   "outputs": [],
   "source": [
    "# 3 clusters Harder\n",
    "### Make clusters\n",
    "from sklearn.datasets.samples_generator import make_blobs\n",
    "X, y = make_blobs(n_samples=100, centers=3, n_features=2, random_state=2)"
   ]
  },
  {
   "cell_type": "code",
   "execution_count": null,
   "metadata": {},
   "outputs": [],
   "source": [
    "#before assigning cluster\n",
    "plt.scatter(X[:,0], X[:,1])"
   ]
  },
  {
   "cell_type": "code",
   "execution_count": null,
   "metadata": {},
   "outputs": [],
   "source": [
    "#after assigning clusters\n",
    "plt.scatter(X[:,0], X[:,1], c = y, cmap = ListedColormap(('red', 'green', 'blue')))"
   ]
  },
  {
   "cell_type": "code",
   "execution_count": null,
   "metadata": {},
   "outputs": [],
   "source": [
    "from sklearn.cluster import KMeans\n",
    "kmeans = KMeans(n_clusters=3, random_state=0).fit(X)\n",
    "y_hat = kmeans.predict(X)\n",
    "plt.scatter(X[:,0], X[:,1], c = y_hat, cmap = ListedColormap(('red', 'green', 'blue')))"
   ]
  },
  {
   "cell_type": "markdown",
   "metadata": {},
   "source": [
    "### try an even harder example"
   ]
  },
  {
   "cell_type": "code",
   "execution_count": null,
   "metadata": {},
   "outputs": [],
   "source": [
    "from sklearn.datasets.samples_generator import make_blobs\n",
    "X, y = make_blobs(n_samples=100, centers=3, n_features=2, random_state=55)"
   ]
  },
  {
   "cell_type": "code",
   "execution_count": null,
   "metadata": {},
   "outputs": [],
   "source": [
    "#before assigning cluster\n",
    "plt.scatter(X[:,0], X[:,1])"
   ]
  },
  {
   "cell_type": "code",
   "execution_count": null,
   "metadata": {},
   "outputs": [],
   "source": [
    "#after assigning clusters\n",
    "plt.scatter(X[:,0], X[:,1], c = y, cmap = ListedColormap(('red', 'green', 'blue')))"
   ]
  },
  {
   "cell_type": "markdown",
   "metadata": {},
   "source": [
    "### Lets look at what k-means thinks"
   ]
  },
  {
   "cell_type": "code",
   "execution_count": null,
   "metadata": {},
   "outputs": [],
   "source": [
    "from sklearn.cluster import KMeans\n",
    "kmeans = KMeans(n_clusters=3, random_state=0).fit(X)\n",
    "y_hat = kmeans.predict(X)\n",
    "plt.scatter(X[:,0], X[:,1], c = y_hat, cmap = ListedColormap(('red', 'green', 'blue')))"
   ]
  },
  {
   "cell_type": "markdown",
   "metadata": {},
   "source": [
    "### Lets try with circles"
   ]
  },
  {
   "cell_type": "code",
   "execution_count": null,
   "metadata": {},
   "outputs": [],
   "source": [
    "from sklearn.datasets import make_circles\n",
    "X, y = make_circles(n_samples=1000, noise=0.03, random_state=0)\n",
    "plt.scatter(X[:,0], X[:,1], c=y, cmap = ListedColormap(('red', 'blue')))"
   ]
  },
  {
   "cell_type": "code",
   "execution_count": null,
   "metadata": {},
   "outputs": [],
   "source": [
    "kmeans = KMeans(n_clusters=2, random_state=0).fit(X)\n",
    "y_hat = kmeans.predict(X)\n",
    "plt.scatter(X[:,0], X[:,1], c = y_hat, cmap = ListedColormap(('red', 'blue')))"
   ]
  },
  {
   "cell_type": "code",
   "execution_count": null,
   "metadata": {},
   "outputs": [],
   "source": [
    "### We can see that kmeans is not the best way to cluster this type of data"
   ]
  },
  {
   "cell_type": "markdown",
   "metadata": {},
   "source": [
    "# Assignment: Try to guess how many clusters are in this graph"
   ]
  },
  {
   "cell_type": "code",
   "execution_count": null,
   "metadata": {},
   "outputs": [],
   "source": [
    "import pickle\n",
    "#from sklearn.datasets.samples_generator import make_blobs\n",
    "#X, y = make_blobs(n_samples=100, centers=5678, n_features=2, random_state=55)\n",
    "#with open('clusters.pickle', 'wb') as f:\n",
    "#    pickle.dump([X, y], f)\n",
    "    \n",
    "with open('clusters.pickle', 'rb') as f:\n",
    "    X, y = pickle.load(f)\n",
    "    y = None"
   ]
  },
  {
   "cell_type": "code",
   "execution_count": null,
   "metadata": {},
   "outputs": [],
   "source": [
    "#after assigning clusters\n",
    "plt.scatter(X[:,0], X[:,1])"
   ]
  },
  {
   "cell_type": "markdown",
   "metadata": {},
   "source": [
    "### Try to see what kmeans thinks"
   ]
  },
  {
   "cell_type": "code",
   "execution_count": null,
   "metadata": {},
   "outputs": [],
   "source": [
    "kmeans = KMeans(n_clusters=1, random_state=0).fit(X)\n",
    "y_hat = kmeans.predict(X)\n",
    "plt.scatter(X[:,0], X[:,1], c = y_hat, cmap = ListedColormap(generateColors(1000)))"
   ]
  },
  {
   "cell_type": "markdown",
   "metadata": {},
   "source": [
    "# Genetic Algorithm"
   ]
  },
  {
   "cell_type": "code",
   "execution_count": null,
   "metadata": {},
   "outputs": [],
   "source": [
    "#genetic algorithm\n",
    "import numpy as np\n",
    "#Try to change this:\n",
    "ref = \"THIS IS A TEST!!\"\n",
    "\n",
    "try:\n",
    "    from randomstate.prng.pcg64 import RandomState\n",
    "except ImportError:\n",
    "    print (\"\"\"Importing randomstate failed. To fix, try:\n",
    "    sudo pip install randomstate OR conda install -c dhirschfeld randomstate\"\"\")\n",
    "    import sys\n",
    "    sys.exit()\n",
    "\n",
    "gene_bases = [base for base in ' ABCDEFGHIJKLMNOPQRSTUVWXYZ!?@#$%^&*()']\n",
    "\n",
    "random_seed = 3\n",
    "\n",
    "size_of_generation = 1000\n",
    "prngs = [RandomState(random_seed, i) for i in range(size_of_generation)]\n",
    "\n",
    "def mutate(gene, prng, mutation_rate=0.05):\n",
    "    copy = ''\n",
    "    for base in gene:\n",
    "        if prng.uniform() < mutation_rate:\n",
    "            copy += prng.choice(gene_bases)\n",
    "        else:\n",
    "            copy += base\n",
    "    return copy\n",
    "\n",
    "\n",
    "def fitness(gene, reference=ref):\n",
    "    return sum([1 for base, ref_base in zip(gene, reference) if base == ref_base])\n",
    "\n",
    "def new_population(parent, mutation_rate=0.05):\n",
    "    return [mutate(parent, prng, mutation_rate=mutation_rate) for prng in prngs]\n",
    "\n",
    "def best_in_population(population):\n",
    "    \"\"\"return the fittest individual in the population\"\"\"\n",
    "    return population[np.argmax([fitness(individual) for individual in population])]\n",
    "\n",
    "def get_next_parent(parent, mutation_rate=0.05):\n",
    "    \"\"\"evolve a new population from the parent, and find the new fittest individual\"\"\"\n",
    "    return best_in_population(new_population(parent, mutation_rate=mutation_rate))\n",
    "\n",
    "def weasel_program(mutation_rate=0.05,initial=' '*len(ref)):#must be same size as text we want\n",
    "    generation = 0\n",
    "    score = fitness(initial)\n",
    "    parent = initial\n",
    "    while score < len(parent):\n",
    "        print ('%3d  %s  (%d)' % (generation, parent, score))\n",
    "        parent = get_next_parent(parent)\n",
    "        generation += 1\n",
    "        score = fitness(parent)\n",
    "    print ('%3d  %s  (%d)' % (generation, parent, score))\n",
    "\n",
    "if __name__ == '__main__':\n",
    "    import time\n",
    "    start = time.time()\n",
    "    weasel_program()\n",
    "    print ('evolution time:', time.time() - start)\n"
   ]
  },
  {
   "cell_type": "code",
   "execution_count": null,
   "metadata": {},
   "outputs": [],
   "source": []
  }
 ],
 "metadata": {
  "kernelspec": {
   "display_name": "Python 3",
   "language": "python",
   "name": "python3"
  },
  "language_info": {
   "codemirror_mode": {
    "name": "ipython",
    "version": 3
   },
   "file_extension": ".py",
   "mimetype": "text/x-python",
   "name": "python",
   "nbconvert_exporter": "python",
   "pygments_lexer": "ipython3",
   "version": "3.6.8"
  }
 },
 "nbformat": 4,
 "nbformat_minor": 2
}
