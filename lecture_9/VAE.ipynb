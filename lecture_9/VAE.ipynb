{
 "cells": [
  {
   "cell_type": "code",
   "execution_count": null,
   "metadata": {},
   "outputs": [],
   "source": [
    "import torch\n",
    "import torchvision#vision datasets, dataloaders\n",
    "import torchvision.transforms as transforms #transformation \n",
    "from torch.autograd import Variable"
   ]
  },
  {
   "cell_type": "code",
   "execution_count": null,
   "metadata": {},
   "outputs": [],
   "source": [
    "#Parameters to change\n",
    "z_dim = 2\n",
    "h_dim = 400\n",
    "mb_size = 128\n",
    "epsilon_std = 1.0\n",
    "lr = 1e-3\n",
    "epochs = 1\n",
    "image_dim = 28\n",
    "channel_dim = 1"
   ]
  },
  {
   "cell_type": "code",
   "execution_count": null,
   "metadata": {},
   "outputs": [],
   "source": [
    "#torch vision datasets are PILImages ranging from 0-1 and we want to transform them to Tensors betwwen -1 and 1\n",
    "transform = transforms.Compose(#This is our transformation code, it allows us to give different transformation for images\n",
    "    [transforms.ToTensor()])#transforms.Normalize((0.1307,), (0.3081,))])\n",
    "\n",
    "#transforms.Grayscale(num_output_channels=1), \n",
    "#get our dataset, Mnist\n",
    "trainset = torchvision.datasets.MNIST(root='../../data', train=True,\n",
    "                                        download=True, transform=transform)\n",
    "trainloader = torch.utils.data.DataLoader(trainset, batch_size=mb_size,\n",
    "                                          shuffle=True, num_workers=2)\n",
    "testset = torchvision.datasets.MNIST(root='../../data', train=False,\n",
    "                                       download=True, transform=transform)\n",
    "testloader = torch.utils.data.DataLoader(testset, batch_size=mb_size,\n",
    "                                         shuffle=False, num_workers=2)\n",
    "'''classes = ('plane', 'car', 'bird', 'cat',\n",
    "           'deer', 'dog', 'frog', 'horse', 'ship', 'truck')'''\n",
    "\n",
    "classes = ('0', '1', '2', '3',\n",
    "           '4', '5', '6', '7', '8', '9')"
   ]
  },
  {
   "cell_type": "code",
   "execution_count": null,
   "metadata": {},
   "outputs": [],
   "source": [
    "examples = enumerate(testloader)\n",
    "batch_idx, (example_data, example_targets) = next(examples)"
   ]
  },
  {
   "cell_type": "code",
   "execution_count": null,
   "metadata": {},
   "outputs": [],
   "source": [
    "#Lets look at our data\n",
    "import matplotlib.pyplot as plt\n",
    "\n",
    "fig = plt.figure()\n",
    "for i in range(6):\n",
    "  plt.subplot(2,3,i+1)\n",
    "  plt.tight_layout()\n",
    "  plt.imshow(example_data[i][0], cmap='gray', interpolation='none')\n",
    "  plt.title(\"Ground Truth: {}\".format(example_targets[i]))\n",
    "  plt.xticks([])\n",
    "  plt.yticks([])"
   ]
  },
  {
   "cell_type": "code",
   "execution_count": null,
   "metadata": {},
   "outputs": [],
   "source": [
    "#Define a neural network\n",
    "import torch.nn as nn\n",
    "import torch.nn.functional as F\n",
    "\n",
    "class encoder(nn.Module):\n",
    "    def __init__(self):\n",
    "        super(encoder, self).__init__()\n",
    "        self.fc1 = nn.Linear(image_dim * image_dim * channel_dim, h_dim)\n",
    "        self.Mu = nn.Linear(h_dim, z_dim)\n",
    "        self.sigma = nn.Linear(h_dim, z_dim)\n",
    "        \n",
    "    def forward(self, x):\n",
    "        x = F.relu(self.fc1(x))\n",
    "        mu = self.Mu(x)\n",
    "        sigma = self.sigma(x)\n",
    "        return mu, sigma\n",
    "    \n",
    "class decoder(nn.Module):\n",
    "    def __init__(self):\n",
    "        super(decoder, self).__init__()\n",
    "        self.fc1 = nn.Linear(z_dim, h_dim)\n",
    "        self.output = nn.Linear(h_dim, image_dim * image_dim * channel_dim)\n",
    "        \n",
    "    def forward(self, z):\n",
    "        h = F.relu(self.fc1(z))\n",
    "        x = torch.sigmoid(self.output(h))\n",
    "        return x\n",
    "\n",
    "def sample_z(mu, log_var):\n",
    "    # Using reparameterization trick to sample from a gaussian\n",
    "    eps = Variable(torch.randn(len(log_var), z_dim))\n",
    "    return mu + torch.exp(log_var / 2) * eps"
   ]
  },
  {
   "cell_type": "code",
   "execution_count": null,
   "metadata": {},
   "outputs": [],
   "source": [
    "#define our networks\n",
    "enc = encoder()\n",
    "dec = decoder()"
   ]
  },
  {
   "cell_type": "code",
   "execution_count": null,
   "metadata": {},
   "outputs": [],
   "source": [
    "#define a loss function and optimizer\n",
    "import torch.optim as optim\n",
    "\n",
    "criterion = nn.CrossEntropyLoss()\n",
    "optimizer = optim.Adam(list(enc.parameters()) + list(dec.parameters()), lr=lr)"
   ]
  },
  {
   "cell_type": "code",
   "execution_count": null,
   "metadata": {},
   "outputs": [],
   "source": [
    "#Training\n",
    "\n",
    "for epoch in range(epochs):  # loop over the dataset multiple times\n",
    "    print(\"Epoch: {}\".format(epoch))\n",
    "    running_loss = 0.0\n",
    "    for i, data in enumerate(trainloader, 0):\n",
    "        # get the inputs\n",
    "        x, labels = data\n",
    "        x = x.view(x.shape[0], -1)\n",
    "\n",
    "        # zero the parameter gradients\n",
    "        optimizer.zero_grad()\n",
    "\n",
    "        # forward\n",
    "        z_mu, z_var = enc(x)\n",
    "        z = sample_z(z_mu, z_var)\n",
    "        X_sample = dec(z)\n",
    "        \n",
    "        reconstruction_loss = F.binary_cross_entropy(X_sample, x, reduction='sum')\n",
    "        kl_loss = -0.5 * torch.sum(1 + z_var - z_mu.pow(2) - z_var.exp())\n",
    "        loss = reconstruction_loss + kl_loss\n",
    "        running_loss += loss\n",
    "        #backward\n",
    "        loss.backward()#back prop\n",
    "        #optimize\n",
    "        optimizer.step()#perform stochastic gradient desent.\n",
    "    print('loss: {}'.format(running_loss/len(trainset)))"
   ]
  },
  {
   "cell_type": "code",
   "execution_count": null,
   "metadata": {},
   "outputs": [],
   "source": [
    "#test\n",
    "#x = torch.randn(mb_size,28*28)\n",
    "#z_mu, z_var = enc(x)\n",
    "#test_x = dec(sample_z(z_mu, z_var))"
   ]
  },
  {
   "cell_type": "code",
   "execution_count": null,
   "metadata": {},
   "outputs": [],
   "source": [
    "#For generation, we want to feed it Normal(1,0) to the decoder.\n",
    "test_x = dec(torch.randn(mb_size,z_dim))"
   ]
  },
  {
   "cell_type": "code",
   "execution_count": null,
   "metadata": {},
   "outputs": [],
   "source": [
    "fig = plt.figure(figsize=(20, 10))\n",
    "for i in range(25):\n",
    "  plt.subplot(5,5,i+1)\n",
    "  #plt.tight_layout()\n",
    "  plt.imshow(test_x[i].view(28,28).detach().numpy(), cmap='gray', interpolation='bilinear')\n",
    "  plt.xticks([])\n",
    "  plt.yticks([])"
   ]
  },
  {
   "cell_type": "code",
   "execution_count": null,
   "metadata": {},
   "outputs": [],
   "source": [
    "# display a 2D manifold of the digits\n",
    "import numpy as np\n",
    "n = 15  # figure with 15x15 digits\n",
    "digit_size = 28\n",
    "figure = np.zeros((digit_size * n, digit_size * n))\n",
    "# we will sample n points within [-15, 15] standard deviations\n",
    "grid_x = np.linspace(-15, 15, n)\n",
    "grid_y = np.linspace(-15, 15, n)\n",
    "\n",
    "for i, yi in enumerate(grid_x):\n",
    "    for j, xi in enumerate(grid_y):\n",
    "        z_sample = torch.tensor([[xi, yi]]) * 1.0\n",
    "        x_decoded = dec(z_sample)\n",
    "        digit = x_decoded[0].reshape(digit_size, digit_size)\n",
    "        digit = digit.detach().numpy()\n",
    "        figure[i * digit_size: (i + 1) * digit_size,\n",
    "               j * digit_size: (j + 1) * digit_size] = digit\n",
    "\n",
    "plt.figure(figsize=(10, 10))\n",
    "plt.imshow(figure)\n",
    "plt.show()"
   ]
  },
  {
   "cell_type": "code",
   "execution_count": null,
   "metadata": {},
   "outputs": [],
   "source": []
  }
 ],
 "metadata": {
  "kernelspec": {
   "display_name": "Python 3",
   "language": "python",
   "name": "python3"
  },
  "language_info": {
   "codemirror_mode": {
    "name": "ipython",
    "version": 3
   },
   "file_extension": ".py",
   "mimetype": "text/x-python",
   "name": "python",
   "nbconvert_exporter": "python",
   "pygments_lexer": "ipython3",
   "version": "3.6.8"
  }
 },
 "nbformat": 4,
 "nbformat_minor": 2
}
