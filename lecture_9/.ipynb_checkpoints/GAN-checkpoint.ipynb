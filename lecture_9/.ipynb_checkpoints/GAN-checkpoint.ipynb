{
 "cells": [
  {
   "cell_type": "markdown",
   "metadata": {},
   "source": [
    "# Gans"
   ]
  },
  {
   "cell_type": "code",
   "execution_count": null,
   "metadata": {},
   "outputs": [],
   "source": [
    "import torch\n",
    "import torchvision#vision datasets, dataloaders\n",
    "import torchvision.transforms as transforms #transformation \n",
    "from torch.autograd import Variable\n",
    "import torch.nn as nn\n",
    "import torch.nn.functional as F\n",
    "import matplotlib.pyplot as plt"
   ]
  },
  {
   "cell_type": "code",
   "execution_count": null,
   "metadata": {},
   "outputs": [],
   "source": [
    "#Parameters to change\n",
    "z_dim = 2\n",
    "h_dim = 400\n",
    "mb_size = 128\n",
    "epsilon_std = 1.0\n",
    "lr = 1e-3\n",
    "epochs = 10\n",
    "image_dim = 28\n",
    "channel_dim = 1"
   ]
  },
  {
   "cell_type": "code",
   "execution_count": null,
   "metadata": {},
   "outputs": [],
   "source": [
    "#torch vision datasets are PILImages ranging from 0-1 and we want to transform them to Tensors betwwen -1 and 1\n",
    "transform = transforms.Compose(#This is our transformation code, it allows us to give different transformation for images\n",
    "    [transforms.ToTensor()])#transforms.Normalize((0.1307,), (0.3081,))])\n",
    "\n",
    "#transforms.Grayscale(num_output_channels=1), \n",
    "#get our dataset, Mnist\n",
    "trainset = torchvision.datasets.MNIST(root='../../data', train=True,\n",
    "                                        download=True, transform=transform)\n",
    "trainloader = torch.utils.data.DataLoader(trainset, batch_size=mb_size,\n",
    "                                          shuffle=True, num_workers=2)\n",
    "testset = torchvision.datasets.MNIST(root='../../data', train=False,\n",
    "                                       download=True, transform=transform)\n",
    "testloader = torch.utils.data.DataLoader(testset, batch_size=mb_size,\n",
    "                                         shuffle=False, num_workers=2)\n",
    "\n",
    "classes = ('0', '1', '2', '3',\n",
    "           '4', '5', '6', '7', '8', '9')"
   ]
  },
  {
   "cell_type": "code",
   "execution_count": null,
   "metadata": {},
   "outputs": [],
   "source": [
    "examples = enumerate(testloader)\n",
    "batch_idx, (example_data, example_targets) = next(examples)"
   ]
  },
  {
   "cell_type": "code",
   "execution_count": null,
   "metadata": {},
   "outputs": [],
   "source": [
    "#Lets look at our data\n",
    "fig = plt.figure()\n",
    "for i in range(6):\n",
    "  plt.subplot(2,3,i+1)\n",
    "  plt.tight_layout()\n",
    "  plt.imshow(example_data[i][0], cmap='gray', interpolation='none')\n",
    "  plt.title(\"Ground Truth: {}\".format(example_targets[i]))\n",
    "  plt.xticks([])\n",
    "  plt.yticks([])"
   ]
  },
  {
   "cell_type": "code",
   "execution_count": null,
   "metadata": {},
   "outputs": [],
   "source": [
    "#define the generator\n",
    "class generator(nn.Module):\n",
    "    def __init__(self):\n",
    "        super(generator, self).__init__()\n",
    "        self.fc1 = nn.Linear(z_dim, h_dim)\n",
    "        self.fc2 = nn.Linear(h_dim, image_dim * image_dim * channel_dim)\n",
    "        \n",
    "    def forward(self, z):\n",
    "        h = F.relu(self.fc1(z))\n",
    "        x = torch.sigmoid(self.fc2(h))\n",
    "        return x"
   ]
  },
  {
   "cell_type": "code",
   "execution_count": null,
   "metadata": {},
   "outputs": [],
   "source": [
    "#define the discriminator\n",
    "class discriminator(nn.Module):\n",
    "    def __init__(self):\n",
    "        super(discriminator, self).__init__()\n",
    "        self.fc1 = nn.Linear(image_dim * image_dim * channel_dim, h_dim)\n",
    "        self.fc2 = nn.Linear(h_dim, 1)\n",
    "        \n",
    "    def forward(self, x):\n",
    "        h = F.relu(self.fc1(x))\n",
    "        y = torch.sigmoid(self.fc2(h))\n",
    "        return y"
   ]
  },
  {
   "cell_type": "code",
   "execution_count": null,
   "metadata": {},
   "outputs": [],
   "source": [
    "G = generator()\n",
    "D = discriminator()"
   ]
  },
  {
   "cell_type": "code",
   "execution_count": null,
   "metadata": {},
   "outputs": [],
   "source": [
    "#define a loss function and optimizer\n",
    "import torch.optim as optim\n",
    "\n",
    "criterion = nn.CrossEntropyLoss()\n",
    "\n",
    "G_optimizer = optim.Adam(G.parameters(), lr=lr)\n",
    "D_optimizer = optim.Adam(D.parameters(), lr=lr)"
   ]
  },
  {
   "cell_type": "code",
   "execution_count": null,
   "metadata": {},
   "outputs": [],
   "source": [
    "#Training\n",
    "ones_label_s = torch.ones(mb_size, 1)\n",
    "zeros_label_s = torch.zeros(mb_size, 1)\n",
    "\n",
    "for epoch in range(epochs):  # loop over the dataset multiple times\n",
    "    print(\"Epoch: {}\".format(epoch))\n",
    "    D_running_loss = 0.0\n",
    "    G_running_loss = 0.0\n",
    "    for i, data in enumerate(trainloader, 0):\n",
    "        # get the inputs\n",
    "        x, labels = data\n",
    "        x = x.view(x.shape[0], -1)\n",
    "        \n",
    "        ones_label = ones_label_s[:len(x)]\n",
    "        zeros_label = zeros_label_s[:len(x)]\n",
    "        #Random noise for generator\n",
    "        z = Variable(torch.randn(len(x), z_dim))\n",
    "        \n",
    "        # Dicriminator forward-loss-backward-update\n",
    "        G_sample = G(z)\n",
    "        D_real = D(x)\n",
    "        D_fake = D(G_sample)\n",
    "        D_loss_real = F.binary_cross_entropy(D_real, ones_label)#real image, and we want discriminator to learn that its a real image\n",
    "        D_loss_fake = F.binary_cross_entropy(D_fake, zeros_label)#fake image, and we want discriminator to learn that its a fake image\n",
    "        D_loss = D_loss_real + D_loss_fake\n",
    "       \n",
    "        D_running_loss += D_loss\n",
    "        #backward\n",
    "        D_loss.backward()#back prop\n",
    "        #optimize\n",
    "        D_optimizer.step()#perform stochastic gradient desent.\n",
    "        # zero the parameter gradients\n",
    "        D_optimizer.zero_grad()\n",
    "        G_optimizer.zero_grad()\n",
    "        \n",
    "        \n",
    "        # Generator forward-loss-backward-update\n",
    "        z = Variable(torch.randn(len(x), z_dim))\n",
    "        G_sample = G(z)\n",
    "        D_fake = D(G_sample)\n",
    "        G_loss = F.binary_cross_entropy(D_fake, ones_label)\n",
    "        G_running_loss += G_loss\n",
    "        \n",
    "        G_loss.backward()#backprop\n",
    "        G_optimizer.step()#perform stochastic gradient desent.\n",
    "        # zero the parameter gradients\n",
    "        D_optimizer.zero_grad()\n",
    "        G_optimizer.zero_grad()\n",
    "        \n",
    "    print('D_running_loss: {}'.format(D_running_loss/len(trainset)))\n",
    "    print('G_running_loss: {}'.format(G_running_loss/len(trainset)))\n",
    "    "
   ]
  },
  {
   "cell_type": "code",
   "execution_count": null,
   "metadata": {},
   "outputs": [],
   "source": [
    "z = Variable(torch.randn(mb_size, z_dim))\n",
    "        \n",
    "# Dicriminator forward-loss-backward-update\n",
    "G_sample = G(z)"
   ]
  },
  {
   "cell_type": "code",
   "execution_count": null,
   "metadata": {},
   "outputs": [],
   "source": [
    "fig = plt.figure(figsize=(20, 10))\n",
    "for i in range(100):\n",
    "  plt.subplot(10,10,i+1)\n",
    "  #plt.tight_layout()\n",
    "  plt.imshow(G_sample[i].view(28,28).detach().numpy(), cmap='gray', interpolation='bilinear')\n",
    "  plt.xticks([])\n",
    "  plt.yticks([])"
   ]
  },
  {
   "cell_type": "code",
   "execution_count": null,
   "metadata": {},
   "outputs": [],
   "source": []
  }
 ],
 "metadata": {
  "kernelspec": {
   "display_name": "Python 3",
   "language": "python",
   "name": "python3"
  },
  "language_info": {
   "codemirror_mode": {
    "name": "ipython",
    "version": 3
   },
   "file_extension": ".py",
   "mimetype": "text/x-python",
   "name": "python",
   "nbconvert_exporter": "python",
   "pygments_lexer": "ipython3",
   "version": "3.6.8"
  }
 },
 "nbformat": 4,
 "nbformat_minor": 2
}
