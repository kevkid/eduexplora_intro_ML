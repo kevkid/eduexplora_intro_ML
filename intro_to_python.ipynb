{
 "cells": [
  {
   "cell_type": "markdown",
   "metadata": {},
   "source": [
    "# Python Basics\n",
    "\n",
    "### Displaying results"
   ]
  },
  {
   "cell_type": "code",
   "execution_count": 2,
   "metadata": {},
   "outputs": [
    {
     "name": "stdout",
     "output_type": "stream",
     "text": [
      "hello worldJHGKUTFYGHV!\n"
     ]
    }
   ],
   "source": [
    "print (\"hello world!\")"
   ]
  },
  {
   "cell_type": "code",
   "execution_count": 4,
   "metadata": {},
   "outputs": [
    {
     "name": "stdout",
     "output_type": "stream",
     "text": [
      "the DOG sat on the mat\n"
     ]
    }
   ],
   "source": [
    "print (\"the %s sat on the mat\" % \"DOG\")"
   ]
  },
  {
   "cell_type": "code",
   "execution_count": 6,
   "metadata": {},
   "outputs": [
    {
     "name": "stdout",
     "output_type": "stream",
     "text": [
      "----------------------------------------------------------------------------------------------------------------------------------------------------------------------------------------------------------------------------------------------------------------------------------------------------------------------------------------------------------------------------------------------------------------------------------------------------------------------------------------------------------------------------------------------------------------------------------------------------------------------------------------------------------------------------------------------------------------------------------------------------------------------------------------------------------------------------------------------------------------------------------------------------------------------------------------------------------------------------------------------------------------------------------------\n"
     ]
    }
   ],
   "source": [
    "print ('-'*1000)"
   ]
  },
  {
   "cell_type": "markdown",
   "metadata": {},
   "source": [
    "## Importing libraries\n",
    "This is important if you want to use some code that exists in your code.\n"
   ]
  },
  {
   "cell_type": "code",
   "execution_count": 7,
   "metadata": {},
   "outputs": [],
   "source": [
    "import random"
   ]
  },
  {
   "cell_type": "code",
   "execution_count": 8,
   "metadata": {},
   "outputs": [
    {
     "data": {
      "text/plain": [
       "'/usr/lib/python3.6/random.py'"
      ]
     },
     "execution_count": 8,
     "metadata": {},
     "output_type": "execute_result"
    }
   ],
   "source": [
    "random.__file__"
   ]
  },
  {
   "cell_type": "code",
   "execution_count": 9,
   "metadata": {},
   "outputs": [
    {
     "data": {
      "text/plain": [
       "['',\n",
       " '/usr/lib/python36.zip',\n",
       " '/usr/lib/python3.6',\n",
       " '/usr/lib/python3.6/lib-dynload',\n",
       " '/home/kevin/.local/lib/python3.6/site-packages',\n",
       " '/usr/local/lib/python3.6/dist-packages',\n",
       " '/usr/lib/python3/dist-packages',\n",
       " '/home/kevin/.local/lib/python3.6/site-packages/IPython/extensions',\n",
       " '/home/kevin/.ipython']"
      ]
     },
     "execution_count": 9,
     "metadata": {},
     "output_type": "execute_result"
    }
   ],
   "source": [
    "#can even see where python is looking for its libraries\n",
    "import sys\n",
    "sys.path"
   ]
  },
  {
   "cell_type": "code",
   "execution_count": 10,
   "metadata": {},
   "outputs": [
    {
     "name": "stdout",
     "output_type": "stream",
     "text": [
      "\u001b[0m\u001b[01;34mabsl\u001b[0m/\n",
      "\u001b[01;34mabsl_py-0.2.2.egg-info\u001b[0m/\n",
      "\u001b[01;34maiohttp\u001b[0m/\n",
      "\u001b[01;34maiohttp-3.4.4.dist-info\u001b[0m/\n",
      "\u001b[01;34maioice\u001b[0m/\n",
      "\u001b[01;34maioice-0.6.10.dist-info\u001b[0m/\n",
      "\u001b[01;34maiortc\u001b[0m/\n",
      "\u001b[01;34maiortc-0.9.13.dist-info\u001b[0m/\n",
      "\u001b[01;34malabaster\u001b[0m/\n",
      "\u001b[01;34malabaster-0.7.11.dist-info\u001b[0m/\n",
      "\u001b[01;34malembic\u001b[0m/\n",
      "\u001b[01;34malembic-0.9.10.dist-info\u001b[0m/\n",
      "\u001b[01;32m_ast27.cpython-36m-x86_64-linux-gnu.so\u001b[0m*\n",
      "\u001b[01;32m_ast3.cpython-36m-x86_64-linux-gnu.so\u001b[0m*\n",
      "\u001b[01;34mastor\u001b[0m/\n",
      "\u001b[01;34mastor-0.6.2.dist-info\u001b[0m/\n",
      "\u001b[01;34mastroid\u001b[0m/\n",
      "\u001b[01;34mastroid-2.0.1.dist-info\u001b[0m/\n",
      "\u001b[01;34masync_generator\u001b[0m/\n",
      "\u001b[01;34masync_generator-1.9.dist-info\u001b[0m/\n",
      "\u001b[01;34masync_timeout\u001b[0m/\n",
      "\u001b[01;34masync_timeout-3.0.1.dist-info\u001b[0m/\n",
      "\u001b[01;34mattr\u001b[0m/\n",
      "\u001b[01;34mattrs-18.2.0.dist-info\u001b[0m/\n",
      "\u001b[01;34mav\u001b[0m/\n",
      "\u001b[01;34mav-6.1.0.dist-info\u001b[0m/\n",
      "\u001b[01;34mbabel\u001b[0m/\n",
      "\u001b[01;34mBabel-2.6.0.dist-info\u001b[0m/\n",
      "\u001b[01;34mbackcall\u001b[0m/\n",
      "\u001b[01;34mbackcall-0.1.0.dist-info\u001b[0m/\n",
      "\u001b[01;34mbin\u001b[0m/\n",
      "\u001b[01;34mbleach\u001b[0m/\n",
      "\u001b[01;34mbleach-2.1.3.dist-info\u001b[0m/\n",
      "\u001b[01;34mboto\u001b[0m/\n",
      "\u001b[01;34mboto-2.49.0.dist-info\u001b[0m/\n",
      "\u001b[01;34mboto3\u001b[0m/\n",
      "\u001b[01;34mboto3-1.7.83.dist-info\u001b[0m/\n",
      "\u001b[01;34mbotocore\u001b[0m/\n",
      "\u001b[01;34mbotocore-1.10.83.dist-info\u001b[0m/\n",
      "\u001b[01;34mbson\u001b[0m/\n",
      "\u001b[01;34mbz2file-0.98.dist-info\u001b[0m/\n",
      "bz2file.py\n",
      "\u001b[01;34mcaffe2\u001b[0m/\n",
      "\u001b[01;34mcertifi\u001b[0m/\n",
      "\u001b[01;34mcertifi-2018.4.16.dist-info\u001b[0m/\n",
      "\u001b[01;34mcffi\u001b[0m/\n",
      "\u001b[01;34mcffi-1.11.5.dist-info\u001b[0m/\n",
      "\u001b[01;32m_cffi_backend.cpython-36m-x86_64-linux-gnu.so\u001b[0m*\n",
      "\u001b[01;34mcloudpickle\u001b[0m/\n",
      "\u001b[01;34mcloudpickle-0.5.3.dist-info\u001b[0m/\n",
      "\u001b[01;34mcrcmod\u001b[0m/\n",
      "\u001b[01;34mcrcmod-1.7.dist-info\u001b[0m/\n",
      "\u001b[01;34mcryptography\u001b[0m/\n",
      "\u001b[01;34mcryptography-2.3.dist-info\u001b[0m/\n",
      "\u001b[01;32mcv2.so\u001b[0m*\n",
      "\u001b[01;34mcycler-0.10.0.dist-info\u001b[0m/\n",
      "cycler.py\n",
      "\u001b[01;34mdateutil\u001b[0m/\n",
      "\u001b[01;34mdecorator-4.3.0.dist-info\u001b[0m/\n",
      "decorator.py\n",
      "\u001b[01;34mdocs\u001b[0m/\n",
      "\u001b[01;34mdocutils\u001b[0m/\n",
      "\u001b[01;34mdocutils-0.14.dist-info\u001b[0m/\n",
      "dot_parser.py\n",
      "easy_install.py\n",
      "editor.py\n",
      "\u001b[01;34mentrypoints-0.2.3.dist-info\u001b[0m/\n",
      "entrypoints.py\n",
      "\u001b[01;34mexternal\u001b[0m/\n",
      "\u001b[01;34mfuture\u001b[0m/\n",
      "\u001b[01;34mfuture-0.16.0.dist-info\u001b[0m/\n",
      "\u001b[01;34mgast\u001b[0m/\n",
      "\u001b[01;34mgast-0.2.0.egg-info\u001b[0m/\n",
      "\u001b[01;34mgensim\u001b[0m/\n",
      "\u001b[01;34mgensim-3.5.0.dist-info\u001b[0m/\n",
      "\u001b[01;34mgoogle\u001b[0m/\n",
      "\u001b[01;34mgridfs\u001b[0m/\n",
      "\u001b[01;34mgrpc\u001b[0m/\n",
      "\u001b[01;34mgrpcio-1.12.0.dist-info\u001b[0m/\n",
      "\u001b[01;34mh5py\u001b[0m/\n",
      "\u001b[01;34mh5py-2.7.1.dist-info\u001b[0m/\n",
      "\u001b[01;34mhtml5lib\u001b[0m/\n",
      "\u001b[01;34mhtml5lib-1.0.1.dist-info\u001b[0m/\n",
      "\u001b[01;34mhyperopt\u001b[0m/\n",
      "\u001b[01;34mhyperopt-0.1.1.dist-info\u001b[0m/\n",
      "\u001b[01;34midna\u001b[0m/\n",
      "\u001b[01;34midna-2.7.dist-info\u001b[0m/\n",
      "\u001b[01;34midna_ssl-1.1.0.dist-info\u001b[0m/\n",
      "idna_ssl.py\n",
      "\u001b[01;34mimageio\u001b[0m/\n",
      "\u001b[01;34mimageio-2.3.0.dist-info\u001b[0m/\n",
      "\u001b[01;34mimagesize-1.0.0.dist-info\u001b[0m/\n",
      "imagesize.py\n",
      "\u001b[01;34mimgaug\u001b[0m/\n",
      "\u001b[01;34mimgaug-0.2.5.egg-info\u001b[0m/\n",
      "\u001b[01;34mimutils\u001b[0m/\n",
      "\u001b[01;34mimutils-0.5.2.dist-info\u001b[0m/\n",
      "\u001b[01;34mipykernel\u001b[0m/\n",
      "\u001b[01;34mipykernel-5.1.0.dist-info\u001b[0m/\n",
      "ipykernel_launcher.py\n",
      "\u001b[01;34mIPython\u001b[0m/\n",
      "\u001b[01;34mipython-7.2.0.dist-info\u001b[0m/\n",
      "\u001b[01;34mipython_genutils\u001b[0m/\n",
      "\u001b[01;34mipython_genutils-0.2.0.dist-info\u001b[0m/\n",
      "\u001b[01;34mipywidgets\u001b[0m/\n",
      "\u001b[01;34mipywidgets-7.3.1.dist-info\u001b[0m/\n",
      "\u001b[01;34misort\u001b[0m/\n",
      "\u001b[01;34misort-4.3.4.dist-info\u001b[0m/\n",
      "\u001b[01;34mjedi\u001b[0m/\n",
      "\u001b[01;34mjedi-0.12.1.dist-info\u001b[0m/\n",
      "\u001b[01;34mjeepney\u001b[0m/\n",
      "\u001b[01;34mjeepney-0.3.1.dist-info\u001b[0m/\n",
      "\u001b[01;34mjinja2\u001b[0m/\n",
      "\u001b[01;34mJinja2-2.10.dist-info\u001b[0m/\n",
      "\u001b[01;34mjmespath\u001b[0m/\n",
      "\u001b[01;34mjmespath-0.9.3.dist-info\u001b[0m/\n",
      "\u001b[01;34mjsonschema\u001b[0m/\n",
      "\u001b[01;34mjsonschema-2.6.0.dist-info\u001b[0m/\n",
      "\u001b[01;34mjupyter-1.0.0.dist-info\u001b[0m/\n",
      "\u001b[01;34mjupyter_client\u001b[0m/\n",
      "\u001b[01;34mjupyter_client-5.2.3.dist-info\u001b[0m/\n",
      "\u001b[01;34mjupyter_console\u001b[0m/\n",
      "\u001b[01;34mjupyter_console-6.0.0.dist-info\u001b[0m/\n",
      "\u001b[01;34mjupyter_core\u001b[0m/\n",
      "\u001b[01;34mjupyter_core-4.4.0.dist-info\u001b[0m/\n",
      "\u001b[01;34mjupyterhub\u001b[0m/\n",
      "\u001b[01;34mjupyterhub-0.9.1.dist-info\u001b[0m/\n",
      "\u001b[01;34mjupyterlab\u001b[0m/\n",
      "\u001b[01;34mjupyterlab-0.32.1.dist-info\u001b[0m/\n",
      "\u001b[01;34mjupyterlab_launcher\u001b[0m/\n",
      "\u001b[01;34mjupyterlab_launcher-0.10.5.dist-info\u001b[0m/\n",
      "jupyter.py\n",
      "\u001b[01;34mkeras\u001b[0m/\n",
      "\u001b[01;34mKeras-2.2.2.dist-info\u001b[0m/\n",
      "\u001b[01;34mkeras_applications\u001b[0m/\n",
      "\u001b[01;34mKeras_Applications-1.0.4.dist-info\u001b[0m/\n",
      "\u001b[01;34mkeras_preprocessing\u001b[0m/\n",
      "\u001b[01;34mKeras_Preprocessing-1.0.2.dist-info\u001b[0m/\n",
      "\u001b[01;34mkeyring\u001b[0m/\n",
      "\u001b[01;34mkeyring-13.2.1.dist-info\u001b[0m/\n",
      "\u001b[01;34mkiwisolver-1.0.1.dist-info\u001b[0m/\n",
      "\u001b[01;32mkiwisolver.cpython-36m-x86_64-linux-gnu.so\u001b[0m*\n",
      "\u001b[01;34mlazy_object_proxy\u001b[0m/\n",
      "\u001b[01;34mlazy_object_proxy-1.3.1.dist-info\u001b[0m/\n",
      "\u001b[01;34mlibfuturize\u001b[0m/\n",
      "\u001b[01;34mlibpasteurize\u001b[0m/\n",
      "\u001b[01;34mlxml\u001b[0m/\n",
      "\u001b[01;34mlxml-4.2.4.dist-info\u001b[0m/\n",
      "\u001b[01;34mmahotas\u001b[0m/\n",
      "\u001b[01;34mmahotas-1.4.4.dist-info\u001b[0m/\n",
      "\u001b[01;34mmarkdown\u001b[0m/\n",
      "\u001b[01;34mMarkdown-2.6.11.dist-info\u001b[0m/\n",
      "\u001b[01;34mmatplotlib\u001b[0m/\n",
      "\u001b[01;34mmatplotlib-2.2.2.dist-info\u001b[0m/\n",
      "matplotlib-2.2.2-py3.6-nspkg.pth\n",
      "\u001b[01;34mmccabe-0.6.1.dist-info\u001b[0m/\n",
      "mccabe.py\n",
      "\u001b[01;34mmistune-0.8.3.dist-info\u001b[0m/\n",
      "mistune.py\n",
      "\u001b[01;34mmpl_toolkits\u001b[0m/\n",
      "\u001b[01;34mmultidict\u001b[0m/\n",
      "\u001b[01;34mmultidict-4.5.2.dist-info\u001b[0m/\n",
      "\u001b[01;34mmysql\u001b[0m/\n",
      "\u001b[01;34mmysql_connector-2.1.6.dist-info\u001b[0m/\n",
      "\u001b[01;34mnbconvert\u001b[0m/\n",
      "\u001b[01;34mnbconvert-5.3.1.dist-info\u001b[0m/\n",
      "\u001b[01;34mnbformat\u001b[0m/\n",
      "\u001b[01;34mnbformat-4.4.0.dist-info\u001b[0m/\n",
      "\u001b[01;34mnetifaces-0.10.7.dist-info\u001b[0m/\n",
      "\u001b[01;32mnetifaces.cpython-36m-x86_64-linux-gnu.so\u001b[0m*\n",
      "\u001b[01;34mnetworkx\u001b[0m/\n",
      "\u001b[01;34mnetworkx-2.1.dist-info\u001b[0m/\n",
      "\u001b[01;34mnltk\u001b[0m/\n",
      "\u001b[01;34mnltk-3.3.dist-info\u001b[0m/\n",
      "\u001b[01;34mnotebook\u001b[0m/\n",
      "\u001b[01;34mnotebook-5.4.1.dist-info\u001b[0m/\n",
      "\u001b[01;34mnumpy\u001b[0m/\n",
      "\u001b[01;34mnumpy-1.14.2.dist-info\u001b[0m/\n",
      "\u001b[01;34mnumpydoc\u001b[0m/\n",
      "\u001b[01;34mnumpydoc-0.8.0.dist-info\u001b[0m/\n",
      "\u001b[01;34moauth2\u001b[0m/\n",
      "\u001b[01;34mOpenGL\u001b[0m/\n",
      "\u001b[01;34mOpenSSL\u001b[0m/\n",
      "\u001b[01;34mpackaging\u001b[0m/\n",
      "\u001b[01;34mpackaging-17.1.dist-info\u001b[0m/\n",
      "\u001b[01;34mpamela-0.3.0.dist-info\u001b[0m/\n",
      "pamela.py\n",
      "\u001b[01;34mpandas\u001b[0m/\n",
      "\u001b[01;34mpandas-0.22.0.dist-info\u001b[0m/\n",
      "\u001b[01;34mpandocfilters-1.4.2.dist-info\u001b[0m/\n",
      "pandocfilters.py\n",
      "\u001b[01;34mparso\u001b[0m/\n",
      "\u001b[01;34mparso-0.3.1.dist-info\u001b[0m/\n",
      "\u001b[01;34mpast\u001b[0m/\n",
      "\u001b[01;34mpatsy\u001b[0m/\n",
      "\u001b[01;34mpatsy-0.5.0.dist-info\u001b[0m/\n",
      "pep8.py\n",
      "\u001b[01;34mpexpect\u001b[0m/\n",
      "\u001b[01;34mpexpect-4.6.0.dist-info\u001b[0m/\n",
      "\u001b[01;34mpickleshare-0.7.4.dist-info\u001b[0m/\n",
      "pickleshare.py\n",
      "\u001b[01;34mpip\u001b[0m/\n",
      "\u001b[01;34mpip-19.1.1.dist-info\u001b[0m/\n",
      "\u001b[01;34mpkg_resources\u001b[0m/\n",
      "\u001b[01;34mprometheus_client\u001b[0m/\n",
      "\u001b[01;34mprometheus_client-0.2.0.dist-info\u001b[0m/\n",
      "\u001b[01;34mprompt_toolkit\u001b[0m/\n",
      "\u001b[01;34mprompt_toolkit-1.0.15.dist-info\u001b[0m/\n",
      "\u001b[01;34mprotobuf-3.5.2.post1.dist-info\u001b[0m/\n",
      "protobuf-3.5.2.post1-py3.6-nspkg.pth\n",
      "\u001b[01;34mpsutil\u001b[0m/\n",
      "\u001b[01;34mpsutil-5.4.6.dist-info\u001b[0m/\n",
      "\u001b[01;34mptyprocess\u001b[0m/\n",
      "\u001b[01;34mptyprocess-0.6.0.dist-info\u001b[0m/\n",
      "\u001b[01;34m__pycache__\u001b[0m/\n",
      "\u001b[01;34mpycocotools\u001b[0m/\n",
      "\u001b[01;34mpycocotools-2.0.0.dist-info\u001b[0m/\n",
      "\u001b[01;34mpycodestyle-2.4.0.dist-info\u001b[0m/\n",
      "pycodestyle.py\n",
      "\u001b[01;34mpycparser\u001b[0m/\n",
      "\u001b[01;34mpycparser-2.18.dist-info\u001b[0m/\n",
      "\u001b[01;34mpydot-1.2.4.dist-info\u001b[0m/\n",
      "pydot.py\n",
      "\u001b[01;34mpyee\u001b[0m/\n",
      "\u001b[01;34mpyee-5.0.0.dist-info\u001b[0m/\n",
      "\u001b[01;34mpyflakes\u001b[0m/\n",
      "\u001b[01;34mpyflakes-2.0.0.dist-info\u001b[0m/\n",
      "\u001b[01;34mpygments\u001b[0m/\n",
      "\u001b[01;34mPygments-2.2.0.dist-info\u001b[0m/\n",
      "pylab.py\n",
      "\u001b[01;34mpylibsrtp\u001b[0m/\n",
      "\u001b[01;34mpylibsrtp-0.6.0.dist-info\u001b[0m/\n",
      "\u001b[01;34mpylint\u001b[0m/\n",
      "\u001b[01;34mpylint-2.0.1.dist-info\u001b[0m/\n",
      "\u001b[01;34mpymongo\u001b[0m/\n",
      "\u001b[01;34mpymongo-3.7.1.dist-info\u001b[0m/\n",
      "\u001b[01;34mPyOpenGL-3.1.0.dist-info\u001b[0m/\n",
      "\u001b[01;34mpyOpenSSL-18.0.0.dist-info\u001b[0m/\n",
      "\u001b[01;34mpyparsing-2.2.0.dist-info\u001b[0m/\n",
      "pyparsing.py\n",
      "\u001b[01;34mPyQt5\u001b[0m/\n",
      "\u001b[01;34mPyQt5-5.9.2.dist-info\u001b[0m/\n",
      "\u001b[01;34mpython_dateutil-2.7.3.dist-info\u001b[0m/\n",
      "\u001b[01;34mpython_editor-1.0.3.dist-info\u001b[0m/\n",
      "\u001b[01;34mpython_oauth2-1.1.0.dist-info\u001b[0m/\n",
      "\u001b[01;34mpytz\u001b[0m/\n",
      "\u001b[01;34mpytz-2018.5.dist-info\u001b[0m/\n",
      "\u001b[01;34mPyWavelets-0.5.2.dist-info\u001b[0m/\n",
      "\u001b[01;34mpywt\u001b[0m/\n",
      "\u001b[01;34mpyzmq-17.1.0.dist-info\u001b[0m/\n",
      "\u001b[01;34mqtawesome\u001b[0m/\n",
      "\u001b[01;34mQtAwesome-0.4.4.dist-info\u001b[0m/\n",
      "\u001b[01;34mqtconsole\u001b[0m/\n",
      "\u001b[01;34mqtconsole-4.3.1.dist-info\u001b[0m/\n",
      "\u001b[01;34mqtpy\u001b[0m/\n",
      "\u001b[01;34mQtPy-1.4.2.dist-info\u001b[0m/\n",
      "\u001b[01;34mrequests\u001b[0m/\n",
      "\u001b[01;34mrequests-2.19.1.dist-info\u001b[0m/\n",
      "\u001b[01;34mrope\u001b[0m/\n",
      "\u001b[01;34mrope-0.10.7.dist-info\u001b[0m/\n",
      "\u001b[01;34mrpy2\u001b[0m/\n",
      "\u001b[01;34mrpy2-2.9.4.dist-info\u001b[0m/\n",
      "\u001b[01;34ms3transfer\u001b[0m/\n",
      "\u001b[01;34ms3transfer-0.1.13.dist-info\u001b[0m/\n",
      "\u001b[01;34mscikit_image-0.13.1.dist-info\u001b[0m/\n",
      "\u001b[01;34mscikit_learn-0.19.1.dist-info\u001b[0m/\n",
      "\u001b[01;34mscipy\u001b[0m/\n",
      "\u001b[01;34mscipy-1.0.1.dist-info\u001b[0m/\n",
      "\u001b[01;34mscratchpad\u001b[0m/\n",
      "\u001b[01;34mseaborn\u001b[0m/\n",
      "\u001b[01;34mseaborn-0.9.0.dist-info\u001b[0m/\n",
      "\u001b[01;34msecretstorage\u001b[0m/\n",
      "\u001b[01;34mSecretStorage-3.0.1.dist-info\u001b[0m/\n",
      "\u001b[01;34msend2trash\u001b[0m/\n",
      "\u001b[01;34mSend2Trash-1.5.0.dist-info\u001b[0m/\n",
      "\u001b[01;34msetuptools\u001b[0m/\n",
      "\u001b[01;34msetuptools-40.0.0.dist-info\u001b[0m/\n",
      "setuputils.py\n",
      "\u001b[01;34msimplegeneric-0.8.1.dist-info\u001b[0m/\n",
      "simplegeneric.py\n",
      "\u001b[01;34msip-4.19.8.dist-info\u001b[0m/\n",
      "\u001b[01;32msip.so\u001b[0m*\n",
      "\u001b[01;34mskimage\u001b[0m/\n",
      "\u001b[01;34msklearn\u001b[0m/\n",
      "\u001b[01;34msklearn-0.0.dist-info\u001b[0m/\n",
      "\u001b[01;34msmart_open\u001b[0m/\n",
      "\u001b[01;34msmart_open-1.6.0.dist-info\u001b[0m/\n",
      "\u001b[01;34msnowballstemmer\u001b[0m/\n",
      "\u001b[01;34msnowballstemmer-1.2.1.dist-info\u001b[0m/\n",
      "\u001b[01;34msphinx\u001b[0m/\n",
      "\u001b[01;34mSphinx-1.7.6.dist-info\u001b[0m/\n",
      "\u001b[01;34msphinxcontrib\u001b[0m/\n",
      "\u001b[01;34msphinxcontrib_websupport-1.1.0.dist-info\u001b[0m/\n",
      "\u001b[01;32msphinxcontrib_websupport-1.1.0-py3.5-nspkg.pth\u001b[0m*\n",
      "\u001b[01;34mspyder\u001b[0m/\n",
      "\u001b[01;34mspyder-3.3.0.dist-info\u001b[0m/\n",
      "\u001b[01;34mspyder_breakpoints\u001b[0m/\n",
      "\u001b[01;34mspyder_io_dcm\u001b[0m/\n",
      "\u001b[01;34mspyder_io_hdf5\u001b[0m/\n",
      "\u001b[01;34mspyder_kernels\u001b[0m/\n",
      "\u001b[01;34mspyder_kernels-0.2.4.dist-info\u001b[0m/\n",
      "\u001b[01;34mspyder_profiler\u001b[0m/\n",
      "\u001b[01;34mspyder_pylint\u001b[0m/\n",
      "\u001b[01;34msqlalchemy\u001b[0m/\n",
      "\u001b[01;34mSQLAlchemy-1.2.7.dist-info\u001b[0m/\n",
      "\u001b[01;34mstatsmodels\u001b[0m/\n",
      "\u001b[01;34mstatsmodels-0.8.0.dist-info\u001b[0m/\n",
      "\u001b[01;34mstyle\u001b[0m/\n",
      "\u001b[01;34mstyle-1.1.0.dist-info\u001b[0m/\n",
      "\u001b[01;34mtensorboard\u001b[0m/\n",
      "\u001b[01;34mtensorboard-1.8.0.dist-info\u001b[0m/\n",
      "\u001b[01;34mtensorflow\u001b[0m/\n",
      "\u001b[01;34mtensorflow-1.8.0.dist-info\u001b[0m/\n",
      "\u001b[01;34mtermcolor-1.1.0.egg-info\u001b[0m/\n",
      "termcolor.py\n",
      "\u001b[01;34mterminado\u001b[0m/\n",
      "\u001b[01;34mterminado-0.8.1.dist-info\u001b[0m/\n",
      "\u001b[01;34mtestpath\u001b[0m/\n",
      "\u001b[01;34mtestpath-0.3.1.dist-info\u001b[0m/\n",
      "\u001b[01;34mtests\u001b[0m/\n",
      "\u001b[01;34mtheano\u001b[0m/\n",
      "\u001b[01;34mTheano-1.0.2.dist-info\u001b[0m/\n",
      "\u001b[01;34mtorch\u001b[0m/\n",
      "\u001b[01;34mtorch-1.1.0.dist-info\u001b[0m/\n",
      "\u001b[01;34mtorchvision\u001b[0m/\n",
      "\u001b[01;34mtorchvision-0.2.2.post3.dist-info\u001b[0m/\n",
      "\u001b[01;34mtornado\u001b[0m/\n",
      "\u001b[01;34mtornado-5.1.dist-info\u001b[0m/\n",
      "\u001b[01;34mtraitlets\u001b[0m/\n",
      "\u001b[01;34mtraitlets-4.3.2.dist-info\u001b[0m/\n",
      "\u001b[01;34mtyped_ast\u001b[0m/\n",
      "\u001b[01;34mtyped_ast-1.1.0.dist-info\u001b[0m/\n",
      "\u001b[01;34mupdate\u001b[0m/\n",
      "\u001b[01;34mupdate-0.0.1.dist-info\u001b[0m/\n",
      "\u001b[01;34murllib3\u001b[0m/\n",
      "\u001b[01;34murllib3-1.23.dist-info\u001b[0m/\n",
      "\u001b[01;34mwcwidth\u001b[0m/\n",
      "\u001b[01;34mwcwidth-0.1.7.dist-info\u001b[0m/\n",
      "\u001b[01;34mwebencodings\u001b[0m/\n",
      "\u001b[01;34mwebencodings-0.5.1.dist-info\u001b[0m/\n",
      "\u001b[01;34mwebsockets\u001b[0m/\n",
      "\u001b[01;34mwebsockets-7.0.dist-info\u001b[0m/\n",
      "\u001b[01;34mwerkzeug\u001b[0m/\n",
      "\u001b[01;34mWerkzeug-0.14.1.dist-info\u001b[0m/\n",
      "\u001b[01;34mwidgetsnbextension\u001b[0m/\n",
      "\u001b[01;34mwidgetsnbextension-3.3.1.dist-info\u001b[0m/\n",
      "\u001b[01;34mwrapt\u001b[0m/\n",
      "\u001b[01;34mwrapt-1.10.11.dist-info\u001b[0m/\n",
      "\u001b[01;34myarl\u001b[0m/\n",
      "\u001b[01;34myarl-1.2.6.dist-info\u001b[0m/\n",
      "\u001b[01;34mzmq\u001b[0m/\n"
     ]
    }
   ],
   "source": [
    "ls '/usr/local/lib/python3.6/dist-packages'"
   ]
  },
  {
   "cell_type": "markdown",
   "metadata": {},
   "source": [
    "### Creating variables/objects"
   ]
  },
  {
   "cell_type": "code",
   "execution_count": 17,
   "metadata": {},
   "outputs": [],
   "source": [
    "a = 31"
   ]
  },
  {
   "cell_type": "code",
   "execution_count": 14,
   "metadata": {},
   "outputs": [
    {
     "data": {
      "text/plain": [
       "31"
      ]
     },
     "execution_count": 14,
     "metadata": {},
     "output_type": "execute_result"
    }
   ],
   "source": [
    "a"
   ]
  },
  {
   "cell_type": "code",
   "execution_count": 15,
   "metadata": {},
   "outputs": [
    {
     "name": "stdout",
     "output_type": "stream",
     "text": [
      "10969760\n",
      "<class 'int'>\n",
      "31\n"
     ]
    }
   ],
   "source": [
    "# The variable 'a' is a Python object. \n",
    "# It has an identity (like memory address)\n",
    "print (id(a))\n",
    "# It has a type\n",
    "print (type(a))\n",
    "# and it has a value\n",
    "print (a)"
   ]
  },
  {
   "cell_type": "markdown",
   "metadata": {},
   "source": [
    "### Arithmetic: /, *, + -, **, % and comparisons"
   ]
  },
  {
   "cell_type": "code",
   "execution_count": 18,
   "metadata": {},
   "outputs": [
    {
     "data": {
      "text/plain": [
       "False"
      ]
     },
     "execution_count": 18,
     "metadata": {},
     "output_type": "execute_result"
    }
   ],
   "source": [
    "2 * 6 == 4 * 3"
   ]
  },
  {
   "cell_type": "code",
   "execution_count": 19,
   "metadata": {},
   "outputs": [
    {
     "data": {
      "text/plain": [
       "False"
      ]
     },
     "execution_count": 19,
     "metadata": {},
     "output_type": "execute_result"
    }
   ],
   "source": [
    "5 < 2"
   ]
  },
  {
   "cell_type": "code",
   "execution_count": 20,
   "metadata": {},
   "outputs": [
    {
     "data": {
      "text/plain": [
       "True"
      ]
     },
     "execution_count": 20,
     "metadata": {},
     "output_type": "execute_result"
    }
   ],
   "source": [
    "5 < 2 or 3 < 5"
   ]
  },
  {
   "cell_type": "code",
   "execution_count": 21,
   "metadata": {},
   "outputs": [
    {
     "data": {
      "text/plain": [
       "False"
      ]
     },
     "execution_count": 21,
     "metadata": {},
     "output_type": "execute_result"
    }
   ],
   "source": [
    "5<2 and 3<5"
   ]
  },
  {
   "cell_type": "code",
   "execution_count": 23,
   "metadata": {},
   "outputs": [
    {
     "data": {
      "text/plain": [
       "False"
      ]
     },
     "execution_count": 23,
     "metadata": {},
     "output_type": "execute_result"
    }
   ],
   "source": [
    "2 * 3 != 6"
   ]
  },
  {
   "cell_type": "markdown",
   "metadata": {},
   "source": [
    "### Doing things based on choices: if, else"
   ]
  },
  {
   "cell_type": "code",
   "execution_count": 25,
   "metadata": {},
   "outputs": [
    {
     "name": "stdout",
     "output_type": "stream",
     "text": [
      "flag is not true\n"
     ]
    }
   ],
   "source": [
    "flag = False\n",
    "if flag:\n",
    "    print (\"flag is true\")\n",
    "else:\n",
    "    print (\"flag is not true\")"
   ]
  },
  {
   "cell_type": "code",
   "execution_count": 26,
   "metadata": {},
   "outputs": [
    {
     "name": "stdout",
     "output_type": "stream",
     "text": [
      "here\n"
     ]
    }
   ],
   "source": [
    "a = 4\n",
    "if a!=10:\n",
    "    print (\"here\")\n",
    "else:\n",
    "    print (\"else\")"
   ]
  },
  {
   "cell_type": "markdown",
   "metadata": {},
   "source": [
    "### For loop\n",
    "Iterates over a list, assigns the same name to each element, handles each value in turn"
   ]
  },
  {
   "cell_type": "code",
   "execution_count": 28,
   "metadata": {},
   "outputs": [
    {
     "name": "stdout",
     "output_type": "stream",
     "text": [
      "hello\n",
      "hello\n",
      "hello\n",
      "hello\n"
     ]
    }
   ],
   "source": [
    "#example of for loop\n",
    "for i in range(0,4):\n",
    "    print('hello')"
   ]
  },
  {
   "cell_type": "markdown",
   "metadata": {},
   "source": [
    "##### Exercise\n",
    "\n",
    "Print a table of squares for 1 <= x <= 20"
   ]
  },
  {
   "cell_type": "markdown",
   "metadata": {},
   "source": [
    "### Lists"
   ]
  },
  {
   "cell_type": "code",
   "execution_count": 29,
   "metadata": {},
   "outputs": [
    {
     "name": "stdout",
     "output_type": "stream",
     "text": [
      "[1, 2, 3, 'hello']\n"
     ]
    }
   ],
   "source": [
    "a = [1,2,3,'hello']\n",
    "print (a)"
   ]
  },
  {
   "cell_type": "code",
   "execution_count": 30,
   "metadata": {},
   "outputs": [
    {
     "name": "stdout",
     "output_type": "stream",
     "text": [
      "4\n"
     ]
    }
   ],
   "source": [
    "print (len(a))"
   ]
  },
  {
   "cell_type": "code",
   "execution_count": 32,
   "metadata": {},
   "outputs": [],
   "source": [
    "del a[1]"
   ]
  },
  {
   "cell_type": "code",
   "execution_count": 33,
   "metadata": {},
   "outputs": [
    {
     "data": {
      "text/plain": [
       "[1, 3, 'hello']"
      ]
     },
     "execution_count": 33,
     "metadata": {},
     "output_type": "execute_result"
    }
   ],
   "source": [
    "a"
   ]
  },
  {
   "cell_type": "code",
   "execution_count": 34,
   "metadata": {},
   "outputs": [],
   "source": [
    "import numpy as np"
   ]
  },
  {
   "cell_type": "code",
   "execution_count": 35,
   "metadata": {},
   "outputs": [],
   "source": [
    "b = [np.sin, len, 'that',  34]"
   ]
  },
  {
   "cell_type": "code",
   "execution_count": 36,
   "metadata": {},
   "outputs": [
    {
     "data": {
      "text/plain": [
       "[<ufunc 'sin'>, <function len(obj, /)>, 'that', 34]"
      ]
     },
     "execution_count": 36,
     "metadata": {},
     "output_type": "execute_result"
    }
   ],
   "source": [
    "b"
   ]
  },
  {
   "cell_type": "markdown",
   "metadata": {},
   "source": [
    "Grabbing an element or a subset \n",
    "numbers are distance from beginning of list, \n",
    "so start with 0… if less than 0, then distance from end of list."
   ]
  },
  {
   "cell_type": "code",
   "execution_count": 38,
   "metadata": {},
   "outputs": [
    {
     "name": "stdout",
     "output_type": "stream",
     "text": [
      "1\n"
     ]
    }
   ],
   "source": [
    "print (a[0])"
   ]
  },
  {
   "cell_type": "code",
   "execution_count": 37,
   "metadata": {},
   "outputs": [
    {
     "data": {
      "text/plain": [
       "[1, 3, 'hello']"
      ]
     },
     "execution_count": 37,
     "metadata": {},
     "output_type": "execute_result"
    }
   ],
   "source": [
    "a"
   ]
  },
  {
   "cell_type": "code",
   "execution_count": 39,
   "metadata": {},
   "outputs": [
    {
     "name": "stdout",
     "output_type": "stream",
     "text": [
      "[1, 3]\n"
     ]
    }
   ],
   "source": [
    "print (a[:2])"
   ]
  },
  {
   "cell_type": "code",
   "execution_count": 40,
   "metadata": {},
   "outputs": [
    {
     "name": "stdout",
     "output_type": "stream",
     "text": [
      "[3, 'hello']\n"
     ]
    }
   ],
   "source": [
    "print (a[1:])"
   ]
  },
  {
   "cell_type": "code",
   "execution_count": 41,
   "metadata": {},
   "outputs": [
    {
     "name": "stdout",
     "output_type": "stream",
     "text": [
      "[3]\n"
     ]
    }
   ],
   "source": [
    "print (a[1:2])"
   ]
  },
  {
   "cell_type": "code",
   "execution_count": 42,
   "metadata": {},
   "outputs": [
    {
     "name": "stdout",
     "output_type": "stream",
     "text": [
      "hello\n"
     ]
    }
   ],
   "source": [
    "print (a[-1])"
   ]
  },
  {
   "cell_type": "code",
   "execution_count": 43,
   "metadata": {},
   "outputs": [
    {
     "name": "stdout",
     "output_type": "stream",
     "text": [
      "['hello', 3, 1]\n"
     ]
    }
   ],
   "source": [
    "# a[start:end:step]\n",
    "print (a[::-1])"
   ]
  },
  {
   "cell_type": "code",
   "execution_count": 44,
   "metadata": {},
   "outputs": [
    {
     "name": "stdout",
     "output_type": "stream",
     "text": [
      "[1, 3, 'hello', 3, 4, 'foo']\n"
     ]
    }
   ],
   "source": [
    "# lists can be added together \n",
    "b = [3,4,'foo']\n",
    "print (a+b)"
   ]
  },
  {
   "cell_type": "code",
   "execution_count": 45,
   "metadata": {},
   "outputs": [
    {
     "ename": "TypeError",
     "evalue": "ufunc 'add' did not contain a loop with signature matching types dtype('<U21') dtype('<U21') dtype('<U21')",
     "output_type": "error",
     "traceback": [
      "\u001b[0;31m---------------------------------------------------------------------------\u001b[0m",
      "\u001b[0;31mTypeError\u001b[0m                                 Traceback (most recent call last)",
      "\u001b[0;32m<ipython-input-45-d68d164ac06c>\u001b[0m in \u001b[0;36m<module>\u001b[0;34m()\u001b[0m\n\u001b[1;32m      2\u001b[0m \u001b[0mx\u001b[0m \u001b[0;34m=\u001b[0m \u001b[0mnp\u001b[0m\u001b[0;34m.\u001b[0m\u001b[0marray\u001b[0m\u001b[0;34m(\u001b[0m\u001b[0;34m[\u001b[0m\u001b[0;36m1\u001b[0m\u001b[0;34m,\u001b[0m\u001b[0;36m2\u001b[0m\u001b[0;34m,\u001b[0m\u001b[0;36m3\u001b[0m\u001b[0;34m]\u001b[0m\u001b[0;34m)\u001b[0m\u001b[0;34m\u001b[0m\u001b[0;34m\u001b[0m\u001b[0m\n\u001b[1;32m      3\u001b[0m \u001b[0my\u001b[0m  \u001b[0;34m=\u001b[0m \u001b[0mnp\u001b[0m\u001b[0;34m.\u001b[0m\u001b[0marray\u001b[0m\u001b[0;34m(\u001b[0m\u001b[0;34m[\u001b[0m\u001b[0;36m4\u001b[0m\u001b[0;34m,\u001b[0m\u001b[0;36m5\u001b[0m\u001b[0;34m,\u001b[0m\u001b[0;34m'a'\u001b[0m\u001b[0;34m]\u001b[0m\u001b[0;34m)\u001b[0m\u001b[0;34m\u001b[0m\u001b[0;34m\u001b[0m\u001b[0m\n\u001b[0;32m----> 4\u001b[0;31m \u001b[0mprint\u001b[0m \u001b[0;34m(\u001b[0m\u001b[0mx\u001b[0m\u001b[0;34m+\u001b[0m\u001b[0my\u001b[0m\u001b[0;34m)\u001b[0m\u001b[0;34m\u001b[0m\u001b[0;34m\u001b[0m\u001b[0m\n\u001b[0m",
      "\u001b[0;31mTypeError\u001b[0m: ufunc 'add' did not contain a loop with signature matching types dtype('<U21') dtype('<U21') dtype('<U21')"
     ]
    }
   ],
   "source": [
    "#cant add these two... why?\n",
    "x = np.array([1,2,3])\n",
    "y  = np.array([4,5,'a'])\n",
    "print (x+y)"
   ]
  },
  {
   "cell_type": "markdown",
   "metadata": {},
   "source": [
    "Question: Why cant we add these two?"
   ]
  },
  {
   "cell_type": "markdown",
   "metadata": {},
   "source": [
    "#### Note on memory handling:\n",
    "\n",
    "Python objects are allocated on assignment.\n",
    "\n",
    "All objects are passed by reference."
   ]
  },
  {
   "cell_type": "code",
   "execution_count": 46,
   "metadata": {},
   "outputs": [
    {
     "data": {
      "text/plain": [
       "[3, 4, 'foo']"
      ]
     },
     "execution_count": 46,
     "metadata": {},
     "output_type": "execute_result"
    }
   ],
   "source": [
    "b"
   ]
  },
  {
   "cell_type": "code",
   "execution_count": 47,
   "metadata": {},
   "outputs": [
    {
     "name": "stdout",
     "output_type": "stream",
     "text": [
      "[3, 4, 'foo']\n"
     ]
    }
   ],
   "source": [
    "# For example,\n",
    "c = b\n",
    "print (c)"
   ]
  },
  {
   "cell_type": "code",
   "execution_count": 51,
   "metadata": {},
   "outputs": [
    {
     "name": "stdout",
     "output_type": "stream",
     "text": [
      "[90, 4, 'foo']\n"
     ]
    }
   ],
   "source": [
    "b[0] = 90\n",
    "print (c)"
   ]
  },
  {
   "cell_type": "code",
   "execution_count": 49,
   "metadata": {},
   "outputs": [],
   "source": [
    "import copy\n",
    "d = copy.deepcopy(c)"
   ]
  },
  {
   "cell_type": "code",
   "execution_count": 52,
   "metadata": {},
   "outputs": [
    {
     "data": {
      "text/plain": [
       "[99, 4, 'foo']"
      ]
     },
     "execution_count": 52,
     "metadata": {},
     "output_type": "execute_result"
    }
   ],
   "source": [
    "d"
   ]
  },
  {
   "cell_type": "code",
   "execution_count": 54,
   "metadata": {},
   "outputs": [
    {
     "name": "stdout",
     "output_type": "stream",
     "text": [
      "139880644916296 139880644916296\n",
      "True\n"
     ]
    }
   ],
   "source": [
    "print (id(b), id(c))\n",
    "print (b == c)"
   ]
  },
  {
   "cell_type": "markdown",
   "metadata": {},
   "source": [
    "### Range -- counting up, counting by multiples, counting backwards"
   ]
  },
  {
   "cell_type": "code",
   "execution_count": 55,
   "metadata": {},
   "outputs": [
    {
     "name": "stdout",
     "output_type": "stream",
     "text": [
      "[0, 1, 2, 3, 4, 5, 6, 7, 8, 9]\n"
     ]
    }
   ],
   "source": [
    "#range and other functional-style methods, such as map, reduce, and filter, return iterators in Python 3. In Python 2 they returned lists.\n",
    "print (list(range(10)))"
   ]
  },
  {
   "cell_type": "code",
   "execution_count": 57,
   "metadata": {},
   "outputs": [
    {
     "name": "stdout",
     "output_type": "stream",
     "text": [
      "[4, 5, 6, 7, 8, 9, 10]\n"
     ]
    }
   ],
   "source": [
    "print (list(range(4,11)))"
   ]
  },
  {
   "cell_type": "code",
   "execution_count": 58,
   "metadata": {},
   "outputs": [
    {
     "name": "stdout",
     "output_type": "stream",
     "text": [
      "[4, 6, 8]\n"
     ]
    }
   ],
   "source": [
    "print (list(range(4,10,2)))"
   ]
  },
  {
   "cell_type": "code",
   "execution_count": 59,
   "metadata": {},
   "outputs": [
    {
     "name": "stdout",
     "output_type": "stream",
     "text": [
      "[10, 9, 8, 7, 6, 5]\n"
     ]
    }
   ],
   "source": [
    "print (list(range(10,4,-1)))"
   ]
  },
  {
   "cell_type": "code",
   "execution_count": 60,
   "metadata": {},
   "outputs": [
    {
     "data": {
      "text/plain": [
       "[]"
      ]
     },
     "execution_count": 60,
     "metadata": {},
     "output_type": "execute_result"
    }
   ],
   "source": [
    "list(range(10,4))"
   ]
  },
  {
   "cell_type": "markdown",
   "metadata": {},
   "source": [
    "### List comprehensions (set theory)"
   ]
  },
  {
   "cell_type": "code",
   "execution_count": 61,
   "metadata": {},
   "outputs": [
    {
     "name": "stdout",
     "output_type": "stream",
     "text": [
      "[0, 2, 4]\n"
     ]
    }
   ],
   "source": [
    "a = [0,1,2]\n",
    "c = [2*x for x in a]\n",
    "print (c)"
   ]
  },
  {
   "cell_type": "code",
   "execution_count": 62,
   "metadata": {},
   "outputs": [
    {
     "name": "stdout",
     "output_type": "stream",
     "text": [
      "[0, 2, 4]\n"
     ]
    }
   ],
   "source": [
    "c = []\n",
    "for x in a:\n",
    "    c.append(2*x)\n",
    "print (c)    "
   ]
  },
  {
   "cell_type": "markdown",
   "metadata": {},
   "source": [
    "Check for containment: in operator"
   ]
  },
  {
   "cell_type": "code",
   "execution_count": null,
   "metadata": {},
   "outputs": [],
   "source": [
    "print (30 in range(30))"
   ]
  },
  {
   "cell_type": "markdown",
   "metadata": {},
   "source": [
    "List comprehensions with conditionals"
   ]
  },
  {
   "cell_type": "code",
   "execution_count": 63,
   "metadata": {},
   "outputs": [
    {
     "name": "stdout",
     "output_type": "stream",
     "text": [
      "[3, 10]\n"
     ]
    }
   ],
   "source": [
    "d = [x for x in range(30) if (x-3)*(x-10)==0]\n",
    "print (d)"
   ]
  },
  {
   "cell_type": "markdown",
   "metadata": {},
   "source": [
    "Multiple list comprehensions"
   ]
  },
  {
   "cell_type": "code",
   "execution_count": 64,
   "metadata": {},
   "outputs": [
    {
     "name": "stdout",
     "output_type": "stream",
     "text": [
      "[[0, 'a'], [0, 'b'], [1, 'a'], [1, 'b'], [2, 'a'], [2, 'b']]\n"
     ]
    }
   ],
   "source": [
    "b = ['a','b']\n",
    "d = [[x,y] for x in a for y in b]\n",
    "print (d)"
   ]
  },
  {
   "cell_type": "markdown",
   "metadata": {},
   "source": [
    "### Functions"
   ]
  },
  {
   "cell_type": "markdown",
   "metadata": {},
   "source": [
    "Create function that checks whether integer is divisible by 11."
   ]
  },
  {
   "cell_type": "code",
   "execution_count": 65,
   "metadata": {},
   "outputs": [],
   "source": [
    "def is_div_by_11(x):\n",
    "    return x % 11 == 0"
   ]
  },
  {
   "cell_type": "code",
   "execution_count": 68,
   "metadata": {},
   "outputs": [
    {
     "data": {
      "text/plain": [
       "True"
      ]
     },
     "execution_count": 68,
     "metadata": {},
     "output_type": "execute_result"
    }
   ],
   "source": [
    "is_div_by_11(22)"
   ]
  },
  {
   "cell_type": "code",
   "execution_count": 70,
   "metadata": {},
   "outputs": [
    {
     "data": {
      "text/plain": [
       "0"
      ]
     },
     "execution_count": 70,
     "metadata": {},
     "output_type": "execute_result"
    }
   ],
   "source": [
    "11 % 11"
   ]
  },
  {
   "cell_type": "code",
   "execution_count": 71,
   "metadata": {},
   "outputs": [
    {
     "data": {
      "text/plain": [
       "False"
      ]
     },
     "execution_count": 71,
     "metadata": {},
     "output_type": "execute_result"
    }
   ],
   "source": [
    "is_div_by_11(48)"
   ]
  },
  {
   "cell_type": "markdown",
   "metadata": {},
   "source": [
    "### Built-in functions\n",
    "int, len, min, max, sum"
   ]
  },
  {
   "cell_type": "code",
   "execution_count": 72,
   "metadata": {},
   "outputs": [
    {
     "name": "stdout",
     "output_type": "stream",
     "text": [
      "23\n",
      "5\n",
      "1\n",
      "100\n",
      "110\n"
     ]
    }
   ],
   "source": [
    "my_list = [1,2,3,4,100]\n",
    "print(int('23'))\n",
    "print(len(my_list))\n",
    "print(min(my_list))\n",
    "print(max(my_list))\n",
    "print(sum(my_list))"
   ]
  },
  {
   "cell_type": "markdown",
   "metadata": {},
   "source": [
    "### Methods\n",
    "list.append, list.count, list.sort"
   ]
  },
  {
   "cell_type": "code",
   "execution_count": 73,
   "metadata": {},
   "outputs": [
    {
     "name": "stdout",
     "output_type": "stream",
     "text": [
      "['the', 'cat', 'sat', 'cat', 'cat']\n",
      "['cat', 'cat', 'cat', 'sat', 'the']\n",
      "3\n"
     ]
    }
   ],
   "source": [
    "a = list()\n",
    "a.append('the')\n",
    "a.append('cat')\n",
    "a.append('sat')\n",
    "a.extend(['cat', 'cat'])\n",
    "print (a)\n",
    "a.sort()\n",
    "print (a)\n",
    "print (a.count('cat'))"
   ]
  },
  {
   "cell_type": "code",
   "execution_count": null,
   "metadata": {},
   "outputs": [],
   "source": []
  },
  {
   "cell_type": "markdown",
   "metadata": {},
   "source": [
    "### Dictionaries\n",
    "Like lists but specify own keys (keys mostly arbitrary; e.g. can be strings).\n",
    "\n",
    "Explore with .keys() and .values()"
   ]
  },
  {
   "cell_type": "code",
   "execution_count": 74,
   "metadata": {},
   "outputs": [
    {
     "name": "stdout",
     "output_type": "stream",
     "text": [
      "{'this': 349, 'that': <function is_div_by_11 at 0x7f386410f6a8>, 34: ['the', 'quick', 'brown', 'fox']}\n"
     ]
    }
   ],
   "source": [
    "a = dict()\n",
    "a['this'] = 349\n",
    "a['that'] = is_div_by_11\n",
    "a[34] = ['the', 'quick', 'brown', 'fox']\n",
    "print (a)"
   ]
  },
  {
   "cell_type": "code",
   "execution_count": 75,
   "metadata": {},
   "outputs": [
    {
     "name": "stdout",
     "output_type": "stream",
     "text": [
      "349\n"
     ]
    }
   ],
   "source": [
    "print (a['this'])"
   ]
  },
  {
   "cell_type": "code",
   "execution_count": 76,
   "metadata": {},
   "outputs": [
    {
     "name": "stdout",
     "output_type": "stream",
     "text": [
      "{'this': 349, 'that': <function is_div_by_11 at 0x7f386410f6a8>, 34: ['the', 'quick', 'brown', 'fox'], 93: 'b'}\n"
     ]
    }
   ],
   "source": [
    "a[93] = 'b'\n",
    "print (a)"
   ]
  },
  {
   "cell_type": "code",
   "execution_count": 77,
   "metadata": {},
   "outputs": [
    {
     "name": "stdout",
     "output_type": "stream",
     "text": [
      "True\n"
     ]
    }
   ],
   "source": [
    "print (a['that'](55))"
   ]
  },
  {
   "cell_type": "code",
   "execution_count": null,
   "metadata": {},
   "outputs": [],
   "source": [
    "print (a[34][3])"
   ]
  },
  {
   "cell_type": "code",
   "execution_count": null,
   "metadata": {},
   "outputs": [],
   "source": [
    "print (\"The keys are\", a.keys())\n",
    "print (\"The values are\", a.values())"
   ]
  },
  {
   "cell_type": "markdown",
   "metadata": {},
   "source": [
    "### Libraries"
   ]
  },
  {
   "cell_type": "code",
   "execution_count": 78,
   "metadata": {},
   "outputs": [
    {
     "name": "stdout",
     "output_type": "stream",
     "text": [
      "[0.         0.16534698 0.33069396 0.49604095 0.66138793 0.82673491\n",
      " 0.99208189 1.15742887 1.32277585 1.48812284 1.65346982 1.8188168\n",
      " 1.98416378 2.14951076 2.31485774 2.48020473 2.64555171 2.81089869\n",
      " 2.97624567 3.14159265]\n"
     ]
    }
   ],
   "source": [
    "import numpy as np\n",
    "t = np.linspace(0,np.pi,20)\n",
    "print (t)\n",
    "x = np.sin(t)"
   ]
  },
  {
   "cell_type": "code",
   "execution_count": 79,
   "metadata": {},
   "outputs": [
    {
     "data": {
      "image/png": "[encoded data removed]",
      "text/plain": [
       "<Figure size 432x288 with 1 Axes>"
      ]
     },
     "metadata": {},
     "output_type": "display_data"
    }
   ],
   "source": [
    "import matplotlib.pyplot as plt\n",
    "%matplotlib inline\n",
    "plt.plot(t, x, 'ro')\n",
    "plt.axis([0, 7, -2, 2])\n",
    "plt.show()"
   ]
  },
  {
   "cell_type": "markdown",
   "metadata": {},
   "source": [
    "### Strings\n",
    "Setting, printing, concatenating, len, replace, in operator"
   ]
  },
  {
   "cell_type": "code",
   "execution_count": 80,
   "metadata": {},
   "outputs": [
    {
     "name": "stdout",
     "output_type": "stream",
     "text": [
      "The quick brown fox jumped \n",
      "over the fence.\n",
      "The quick brown fox jumped over the fence.\n"
     ]
    }
   ],
   "source": [
    "x = \"The quick brown fox jumped \"\n",
    "y = \"over the fence.\"\n",
    "print (x)\n",
    "print (y)\n",
    "print (x+y)"
   ]
  },
  {
   "cell_type": "code",
   "execution_count": 81,
   "metadata": {},
   "outputs": [
    {
     "data": {
      "text/plain": [
       "'over the fence.over the fence.'"
      ]
     },
     "execution_count": 81,
     "metadata": {},
     "output_type": "execute_result"
    }
   ],
   "source": [
    "2*y"
   ]
  },
  {
   "cell_type": "code",
   "execution_count": 82,
   "metadata": {},
   "outputs": [
    {
     "data": {
      "text/plain": [
       "'qui'"
      ]
     },
     "execution_count": 82,
     "metadata": {},
     "output_type": "execute_result"
    }
   ],
   "source": [
    "x[4:7]"
   ]
  },
  {
   "cell_type": "code",
   "execution_count": null,
   "metadata": {},
   "outputs": [],
   "source": [
    "len(x)"
   ]
  },
  {
   "cell_type": "code",
   "execution_count": 83,
   "metadata": {},
   "outputs": [
    {
     "name": "stdout",
     "output_type": "stream",
     "text": [
      "The\n",
      "quick\n",
      "brown\n",
      "fox\n",
      "jumped\n",
      "\n"
     ]
    }
   ],
   "source": [
    "print (x.replace(' ','\\n'))"
   ]
  },
  {
   "cell_type": "code",
   "execution_count": 85,
   "metadata": {},
   "outputs": [
    {
     "data": {
      "text/plain": [
       "False"
      ]
     },
     "execution_count": 85,
     "metadata": {},
     "output_type": "execute_result"
    }
   ],
   "source": [
    "' row ' in x"
   ]
  },
  {
   "cell_type": "code",
   "execution_count": 88,
   "metadata": {},
   "outputs": [
    {
     "data": {
      "text/plain": [
       "['The ', 'uick brown fox jumped ']"
      ]
     },
     "execution_count": 88,
     "metadata": {},
     "output_type": "execute_result"
    }
   ],
   "source": [
    "x.split('q')"
   ]
  },
  {
   "cell_type": "code",
   "execution_count": null,
   "metadata": {},
   "outputs": [],
   "source": [
    "sent = dict()\n",
    "for k, v in enumerate(x.split(' ')):\n",
    "    sent[k] = v\n",
    "    \n",
    "print (sent)"
   ]
  },
  {
   "cell_type": "markdown",
   "metadata": {},
   "source": [
    "# Interactive portion"
   ]
  },
  {
   "cell_type": "code",
   "execution_count": 89,
   "metadata": {},
   "outputs": [
    {
     "name": "stdout",
     "output_type": "stream",
     "text": [
      "[0, 1, 2, 3, 4, 5, 6, 7, 8, 9]\n"
     ]
    }
   ],
   "source": [
    "#create a list of numbers from 0 to 9 inclusive\n",
    "my_list = list(range(0,10))\n",
    "print(my_list)"
   ]
  },
  {
   "cell_type": "code",
   "execution_count": 100,
   "metadata": {},
   "outputs": [
    {
     "name": "stdout",
     "output_type": "stream",
     "text": [
      "0\n"
     ]
    }
   ],
   "source": [
    "#print out the first number in the list\n",
    "for i in range(len(my_list)):\n",
    "    if i == 0:\n",
    "        print(my_list[i])"
   ]
  },
  {
   "cell_type": "code",
   "execution_count": 107,
   "metadata": {},
   "outputs": [
    {
     "name": "stdout",
     "output_type": "stream",
     "text": [
      "9\n"
     ]
    }
   ],
   "source": [
    "#print out the last element in the list?\n",
    "for i in range(len(my_list)):\n",
    "     if i == len(my_list)-1:\n",
    "        print(my_list[i])"
   ]
  },
  {
   "cell_type": "code",
   "execution_count": 109,
   "metadata": {},
   "outputs": [
    {
     "name": "stdout",
     "output_type": "stream",
     "text": [
      "[0, 1, 2, 3, 4, 5, 6, 7, 8, 9]\n"
     ]
    }
   ],
   "source": [
    "print(my_list)"
   ]
  },
  {
   "cell_type": "code",
   "execution_count": 112,
   "metadata": {},
   "outputs": [
    {
     "name": "stdout",
     "output_type": "stream",
     "text": [
      "0\n",
      "2\n",
      "4\n",
      "6\n",
      "8\n"
     ]
    }
   ],
   "source": [
    "#print out only the even numbers in the list\n",
    "for i in range(len(my_list)):\n",
    "    if my_list[i] % 2 == 0:\n",
    "        print(my_list[i])"
   ]
  },
  {
   "cell_type": "code",
   "execution_count": 113,
   "metadata": {},
   "outputs": [
    {
     "name": "stdout",
     "output_type": "stream",
     "text": [
      "[44 47 64 67 67  9 83 21 36 87]\n"
     ]
    }
   ],
   "source": [
    "#how would you sort this list?\n",
    "import numpy as np\n",
    "seed = 0\n",
    "np.random.seed(seed)\n",
    "my_list2 = np.random.randint(low=0,high=100, size=10)\n",
    "print (my_list2)"
   ]
  },
  {
   "cell_type": "code",
   "execution_count": 115,
   "metadata": {},
   "outputs": [],
   "source": [
    "my_list2.sort()"
   ]
  },
  {
   "cell_type": "code",
   "execution_count": 117,
   "metadata": {},
   "outputs": [
    {
     "data": {
      "text/plain": [
       "array([ 9, 21, 36, 44, 47, 64, 67, 67, 83, 87])"
      ]
     },
     "execution_count": 117,
     "metadata": {},
     "output_type": "execute_result"
    }
   ],
   "source": [
    "my_list2"
   ]
  },
  {
   "cell_type": "markdown",
   "metadata": {},
   "source": [
    "# Assignment"
   ]
  },
  {
   "cell_type": "markdown",
   "metadata": {},
   "source": [
    "## Generate a list of 20 integers which range from 0 to 1000 and extract only the odd numbers and put it in a new list"
   ]
  },
  {
   "cell_type": "code",
   "execution_count": null,
   "metadata": {},
   "outputs": [],
   "source": [
    "#here are some hints: use randint, you will need a loop, and will need the modulus (%) to get the odd numbers\n",
    "#the definition of odd is divisible by 2 -1, i.e it is not divisible by 2.\n",
    "#remember we can make a list then append to the list (my_list.append(10))"
   ]
  },
  {
   "cell_type": "code",
   "execution_count": 118,
   "metadata": {},
   "outputs": [
    {
     "name": "stdout",
     "output_type": "stream",
     "text": [
      "[ 70 472 600 396 314 705 486 551  87 174 600 849 677 537 845  72 777 916\n",
      " 115 976]\n",
      "20\n"
     ]
    }
   ],
   "source": [
    "list_3 = np.random.randint(low=0,high=1000, size=20)\n",
    "print(list_3)\n",
    "print(len(list_3))"
   ]
  },
  {
   "cell_type": "code",
   "execution_count": 119,
   "metadata": {},
   "outputs": [
    {
     "name": "stdout",
     "output_type": "stream",
     "text": [
      "[705, 551, 87, 849, 677, 537, 845, 777, 115]\n"
     ]
    }
   ],
   "source": [
    "odd_list = []\n",
    "for i in range(len(list_3)):\n",
    "    if list_3[i] % 2 == 1:\n",
    "        odd_list.append(list_3[i])\n",
    "print(odd_list)"
   ]
  },
  {
   "cell_type": "markdown",
   "metadata": {},
   "source": [
    "## Generate a function which can add two numbers and returns one number"
   ]
  },
  {
   "cell_type": "code",
   "execution_count": null,
   "metadata": {},
   "outputs": [],
   "source": [
    "# hint: you can use two parameters as input and returns a number"
   ]
  },
  {
   "cell_type": "code",
   "execution_count": 135,
   "metadata": {},
   "outputs": [],
   "source": [
    "def number_1(x,y):\n",
    "    a = 'hhh'\n",
    "    var = x+y\n",
    "    print(var)\n",
    "    return a, var"
   ]
  },
  {
   "cell_type": "code",
   "execution_count": 143,
   "metadata": {},
   "outputs": [],
   "source": [
    "def number2(x):\n",
    "    return np.sum(x)"
   ]
  },
  {
   "cell_type": "code",
   "execution_count": 145,
   "metadata": {},
   "outputs": [
    {
     "name": "stdout",
     "output_type": "stream",
     "text": [
      "15\n"
     ]
    }
   ],
   "source": [
    "print(number2([1,2,3,4,5]))"
   ]
  },
  {
   "cell_type": "code",
   "execution_count": 146,
   "metadata": {},
   "outputs": [
    {
     "ename": "TypeError",
     "evalue": "number2() takes 1 positional argument but 2 were given",
     "output_type": "error",
     "traceback": [
      "\u001b[0;31m---------------------------------------------------------------------------\u001b[0m",
      "\u001b[0;31mTypeError\u001b[0m                                 Traceback (most recent call last)",
      "\u001b[0;32m<ipython-input-146-bb61920ed870>\u001b[0m in \u001b[0;36m<module>\u001b[0;34m()\u001b[0m\n\u001b[0;32m----> 1\u001b[0;31m \u001b[0mprint\u001b[0m\u001b[0;34m(\u001b[0m\u001b[0mnumber2\u001b[0m\u001b[0;34m(\u001b[0m\u001b[0;36m2\u001b[0m\u001b[0;34m,\u001b[0m\u001b[0;36m3\u001b[0m\u001b[0;34m)\u001b[0m\u001b[0;34m)\u001b[0m\u001b[0;34m\u001b[0m\u001b[0;34m\u001b[0m\u001b[0m\n\u001b[0m",
      "\u001b[0;31mTypeError\u001b[0m: number2() takes 1 positional argument but 2 were given"
     ]
    }
   ],
   "source": [
    "print(number2(2,3))"
   ]
  },
  {
   "cell_type": "code",
   "execution_count": null,
   "metadata": {},
   "outputs": [],
   "source": []
  },
  {
   "cell_type": "code",
   "execution_count": null,
   "metadata": {},
   "outputs": [],
   "source": []
  },
  {
   "cell_type": "code",
   "execution_count": null,
   "metadata": {},
   "outputs": [],
   "source": []
  },
  {
   "cell_type": "code",
   "execution_count": null,
   "metadata": {},
   "outputs": [],
   "source": []
  },
  {
   "cell_type": "code",
   "execution_count": null,
   "metadata": {},
   "outputs": [],
   "source": []
  }
 ],
 "metadata": {
  "anaconda-cloud": {},
  "kernelspec": {
   "display_name": "Python 3",
   "language": "python",
   "name": "python3"
  },
  "language_info": {
   "codemirror_mode": {
    "name": "ipython",
    "version": 3
   },
   "file_extension": ".py",
   "mimetype": "text/x-python",
   "name": "python",
   "nbconvert_exporter": "python",
   "pygments_lexer": "ipython3",
   "version": "3.6.8"
  }
 },
 "nbformat": 4,
 "nbformat_minor": 2
}
